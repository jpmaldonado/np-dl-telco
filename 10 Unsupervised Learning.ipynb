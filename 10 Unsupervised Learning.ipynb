{
 "cells": [
  {
   "cell_type": "code",
   "execution_count": 1,
   "metadata": {},
   "outputs": [],
   "source": [
    "import pandas as pd\n",
    "%matplotlib inline\n",
    "import numpy as np"
   ]
  },
  {
   "cell_type": "code",
   "execution_count": 4,
   "metadata": {},
   "outputs": [],
   "source": [
    "df = pd.read_csv('./data/cdr.csv', index_col='callID')"
   ]
  },
  {
   "cell_type": "code",
   "execution_count": 5,
   "metadata": {},
   "outputs": [
    {
     "data": {
      "text/html": [
       "<div>\n",
       "<style scoped>\n",
       "    .dataframe tbody tr th:only-of-type {\n",
       "        vertical-align: middle;\n",
       "    }\n",
       "\n",
       "    .dataframe tbody tr th {\n",
       "        vertical-align: top;\n",
       "    }\n",
       "\n",
       "    .dataframe thead th {\n",
       "        text-align: right;\n",
       "    }\n",
       "</style>\n",
       "<table border=\"1\" class=\"dataframe\">\n",
       "  <thead>\n",
       "    <tr style=\"text-align: right;\">\n",
       "      <th></th>\n",
       "      <th>phoneNumber</th>\n",
       "      <th>Line</th>\n",
       "      <th>destPhoneNumber</th>\n",
       "      <th>startDate</th>\n",
       "      <th>endDate</th>\n",
       "      <th>startTime</th>\n",
       "      <th>endTime</th>\n",
       "      <th>Type</th>\n",
       "      <th>Cost</th>\n",
       "    </tr>\n",
       "    <tr>\n",
       "      <th>callID</th>\n",
       "      <th></th>\n",
       "      <th></th>\n",
       "      <th></th>\n",
       "      <th></th>\n",
       "      <th></th>\n",
       "      <th></th>\n",
       "      <th></th>\n",
       "      <th></th>\n",
       "      <th></th>\n",
       "    </tr>\n",
       "  </thead>\n",
       "  <tbody>\n",
       "    <tr>\n",
       "      <td>0</td>\n",
       "      <td>1650333333</td>\n",
       "      <td>1</td>\n",
       "      <td>8450927777</td>\n",
       "      <td>3/1/2014</td>\n",
       "      <td>3/1/2014</td>\n",
       "      <td>11:00:00</td>\n",
       "      <td>11:09:00</td>\n",
       "      <td>National</td>\n",
       "      <td>72</td>\n",
       "    </tr>\n",
       "    <tr>\n",
       "      <td>1</td>\n",
       "      <td>1650333333</td>\n",
       "      <td>1</td>\n",
       "      <td>1657777772</td>\n",
       "      <td>22/01/2014</td>\n",
       "      <td>22/01/2014</td>\n",
       "      <td>18:30:00</td>\n",
       "      <td>18:43:00</td>\n",
       "      <td>Local</td>\n",
       "      <td>52</td>\n",
       "    </tr>\n",
       "    <tr>\n",
       "      <td>2</td>\n",
       "      <td>1650333333</td>\n",
       "      <td>1</td>\n",
       "      <td>1657777772</td>\n",
       "      <td>27/01/2014</td>\n",
       "      <td>27/01/2014</td>\n",
       "      <td>15:10:00</td>\n",
       "      <td>15:37:00</td>\n",
       "      <td>Local</td>\n",
       "      <td>27</td>\n",
       "    </tr>\n",
       "    <tr>\n",
       "      <td>3</td>\n",
       "      <td>1650333333</td>\n",
       "      <td>0</td>\n",
       "      <td>8450927777</td>\n",
       "      <td>5/2/2014</td>\n",
       "      <td>5/2/2014</td>\n",
       "      <td>19:55:00</td>\n",
       "      <td>20:07:00</td>\n",
       "      <td>National</td>\n",
       "      <td>96</td>\n",
       "    </tr>\n",
       "    <tr>\n",
       "      <td>4</td>\n",
       "      <td>1650333333</td>\n",
       "      <td>1</td>\n",
       "      <td>1657777777</td>\n",
       "      <td>18/02/2014</td>\n",
       "      <td>18/02/2014</td>\n",
       "      <td>14:35:00</td>\n",
       "      <td>14:52:00</td>\n",
       "      <td>Local</td>\n",
       "      <td>68</td>\n",
       "    </tr>\n",
       "  </tbody>\n",
       "</table>\n",
       "</div>"
      ],
      "text/plain": [
       "         phoneNumber   Line   destPhoneNumber   startDate     endDate  \\\n",
       "callID                                                                  \n",
       "0         1650333333      1        8450927777    3/1/2014    3/1/2014   \n",
       "1         1650333333      1        1657777772  22/01/2014  22/01/2014   \n",
       "2         1650333333      1        1657777772  27/01/2014  27/01/2014   \n",
       "3         1650333333      0        8450927777    5/2/2014    5/2/2014   \n",
       "4         1650333333      1        1657777777  18/02/2014  18/02/2014   \n",
       "\n",
       "        startTime   endTime      Type   Cost  \n",
       "callID                                        \n",
       "0        11:00:00  11:09:00  National     72  \n",
       "1        18:30:00  18:43:00     Local     52  \n",
       "2        15:10:00  15:37:00     Local     27  \n",
       "3        19:55:00  20:07:00  National     96  \n",
       "4        14:35:00  14:52:00     Local     68  "
      ]
     },
     "execution_count": 5,
     "metadata": {},
     "output_type": "execute_result"
    }
   ],
   "source": [
    "df.head()"
   ]
  },
  {
   "cell_type": "markdown",
   "metadata": {},
   "source": [
    "**Goal:** Detect unusual activity / patterns."
   ]
  },
  {
   "cell_type": "markdown",
   "metadata": {},
   "source": [
    "**Important!**: Determine the level of detail of the analysis. \n",
    "\n",
    "- Suspicious *calls* (individual calls).\n",
    "- Suspicious *callers* (people doing those calls)."
   ]
  },
  {
   "cell_type": "markdown",
   "metadata": {},
   "source": [
    "### Unusual calls"
   ]
  },
  {
   "cell_type": "code",
   "execution_count": 6,
   "metadata": {},
   "outputs": [
    {
     "data": {
      "text/plain": [
       "Index([' phoneNumber', ' Line', ' destPhoneNumber', ' startDate', ' endDate',\n",
       "       ' startTime', ' endTime', ' Type', ' Cost'],\n",
       "      dtype='object')"
      ]
     },
     "execution_count": 6,
     "metadata": {},
     "output_type": "execute_result"
    }
   ],
   "source": [
    "df.columns"
   ]
  },
  {
   "cell_type": "code",
   "execution_count": 7,
   "metadata": {},
   "outputs": [
    {
     "name": "stdout",
     "output_type": "stream",
     "text": [
      "<class 'pandas.core.frame.DataFrame'>\n",
      "Int64Index: 42238 entries, 0 to 220\n",
      "Data columns (total 9 columns):\n",
      " phoneNumber        42238 non-null int64\n",
      " Line               42238 non-null int64\n",
      " destPhoneNumber    42238 non-null int64\n",
      " startDate          42238 non-null object\n",
      " endDate            42238 non-null object\n",
      " startTime          42238 non-null object\n",
      " endTime            42238 non-null object\n",
      " Type               42238 non-null object\n",
      " Cost               42238 non-null int64\n",
      "dtypes: int64(4), object(5)\n",
      "memory usage: 3.2+ MB\n"
     ]
    }
   ],
   "source": [
    "df.info()"
   ]
  },
  {
   "cell_type": "markdown",
   "metadata": {},
   "source": [
    "#### Preliminary cleaning\n",
    "\n",
    "- Remove whitespace in columns.\n",
    "- Set the date/time correctly."
   ]
  },
  {
   "cell_type": "code",
   "execution_count": 13,
   "metadata": {},
   "outputs": [
    {
     "data": {
      "text/plain": [
       "'pablo is in a1'"
      ]
     },
     "execution_count": 13,
     "metadata": {},
     "output_type": "execute_result"
    }
   ],
   "source": [
    "' pablo is in a1   '.strip()"
   ]
  },
  {
   "cell_type": "code",
   "execution_count": 15,
   "metadata": {},
   "outputs": [],
   "source": [
    "df.columns = [col.strip() for col in df.columns]"
   ]
  },
  {
   "cell_type": "code",
   "execution_count": 17,
   "metadata": {},
   "outputs": [
    {
     "data": {
      "text/plain": [
       "Index(['phoneNumber', 'Line', 'destPhoneNumber', 'startDate', 'endDate',\n",
       "       'startTime', 'endTime', 'Type', 'Cost'],\n",
       "      dtype='object')"
      ]
     },
     "execution_count": 17,
     "metadata": {},
     "output_type": "execute_result"
    }
   ],
   "source": [
    "df.columns"
   ]
  },
  {
   "cell_type": "code",
   "execution_count": 19,
   "metadata": {},
   "outputs": [],
   "source": [
    "df['startCall'] = pd.to_datetime(df['startDate'] + ' ' + df['startTime'])"
   ]
  },
  {
   "cell_type": "code",
   "execution_count": 22,
   "metadata": {},
   "outputs": [],
   "source": [
    "df['endCall'] = pd.to_datetime(df['endDate'] + ' ' + df['endTime'])"
   ]
  },
  {
   "cell_type": "code",
   "execution_count": 26,
   "metadata": {},
   "outputs": [],
   "source": [
    "df['callDuration'] = df['endCall']-df['startCall']"
   ]
  },
  {
   "cell_type": "code",
   "execution_count": 32,
   "metadata": {},
   "outputs": [],
   "source": [
    "df['callDurationMin'] = df['callDuration'].apply(lambda t: t.seconds/60) # convert to min"
   ]
  },
  {
   "cell_type": "code",
   "execution_count": 34,
   "metadata": {},
   "outputs": [],
   "source": [
    "df['startCallHour'] = df['startCall'].apply(lambda t: t.hour)"
   ]
  },
  {
   "cell_type": "code",
   "execution_count": 35,
   "metadata": {},
   "outputs": [
    {
     "data": {
      "text/html": [
       "<div>\n",
       "<style scoped>\n",
       "    .dataframe tbody tr th:only-of-type {\n",
       "        vertical-align: middle;\n",
       "    }\n",
       "\n",
       "    .dataframe tbody tr th {\n",
       "        vertical-align: top;\n",
       "    }\n",
       "\n",
       "    .dataframe thead th {\n",
       "        text-align: right;\n",
       "    }\n",
       "</style>\n",
       "<table border=\"1\" class=\"dataframe\">\n",
       "  <thead>\n",
       "    <tr style=\"text-align: right;\">\n",
       "      <th></th>\n",
       "      <th>phoneNumber</th>\n",
       "      <th>Line</th>\n",
       "      <th>destPhoneNumber</th>\n",
       "      <th>startDate</th>\n",
       "      <th>endDate</th>\n",
       "      <th>startTime</th>\n",
       "      <th>endTime</th>\n",
       "      <th>Type</th>\n",
       "      <th>Cost</th>\n",
       "      <th>startCall</th>\n",
       "      <th>endCall</th>\n",
       "      <th>callDuration</th>\n",
       "      <th>callDurationMin</th>\n",
       "      <th>startCallHour</th>\n",
       "    </tr>\n",
       "    <tr>\n",
       "      <th>callID</th>\n",
       "      <th></th>\n",
       "      <th></th>\n",
       "      <th></th>\n",
       "      <th></th>\n",
       "      <th></th>\n",
       "      <th></th>\n",
       "      <th></th>\n",
       "      <th></th>\n",
       "      <th></th>\n",
       "      <th></th>\n",
       "      <th></th>\n",
       "      <th></th>\n",
       "      <th></th>\n",
       "      <th></th>\n",
       "    </tr>\n",
       "  </thead>\n",
       "  <tbody>\n",
       "    <tr>\n",
       "      <td>0</td>\n",
       "      <td>1650333333</td>\n",
       "      <td>1</td>\n",
       "      <td>8450927777</td>\n",
       "      <td>3/1/2014</td>\n",
       "      <td>3/1/2014</td>\n",
       "      <td>11:00:00</td>\n",
       "      <td>11:09:00</td>\n",
       "      <td>National</td>\n",
       "      <td>72</td>\n",
       "      <td>2014-03-01 11:00:00</td>\n",
       "      <td>2014-03-01 11:09:00</td>\n",
       "      <td>00:09:00</td>\n",
       "      <td>9.0</td>\n",
       "      <td>11</td>\n",
       "    </tr>\n",
       "    <tr>\n",
       "      <td>1</td>\n",
       "      <td>1650333333</td>\n",
       "      <td>1</td>\n",
       "      <td>1657777772</td>\n",
       "      <td>22/01/2014</td>\n",
       "      <td>22/01/2014</td>\n",
       "      <td>18:30:00</td>\n",
       "      <td>18:43:00</td>\n",
       "      <td>Local</td>\n",
       "      <td>52</td>\n",
       "      <td>2014-01-22 18:30:00</td>\n",
       "      <td>2014-01-22 18:43:00</td>\n",
       "      <td>00:13:00</td>\n",
       "      <td>13.0</td>\n",
       "      <td>18</td>\n",
       "    </tr>\n",
       "    <tr>\n",
       "      <td>2</td>\n",
       "      <td>1650333333</td>\n",
       "      <td>1</td>\n",
       "      <td>1657777772</td>\n",
       "      <td>27/01/2014</td>\n",
       "      <td>27/01/2014</td>\n",
       "      <td>15:10:00</td>\n",
       "      <td>15:37:00</td>\n",
       "      <td>Local</td>\n",
       "      <td>27</td>\n",
       "      <td>2014-01-27 15:10:00</td>\n",
       "      <td>2014-01-27 15:37:00</td>\n",
       "      <td>00:27:00</td>\n",
       "      <td>27.0</td>\n",
       "      <td>15</td>\n",
       "    </tr>\n",
       "    <tr>\n",
       "      <td>3</td>\n",
       "      <td>1650333333</td>\n",
       "      <td>0</td>\n",
       "      <td>8450927777</td>\n",
       "      <td>5/2/2014</td>\n",
       "      <td>5/2/2014</td>\n",
       "      <td>19:55:00</td>\n",
       "      <td>20:07:00</td>\n",
       "      <td>National</td>\n",
       "      <td>96</td>\n",
       "      <td>2014-05-02 19:55:00</td>\n",
       "      <td>2014-05-02 20:07:00</td>\n",
       "      <td>00:12:00</td>\n",
       "      <td>12.0</td>\n",
       "      <td>19</td>\n",
       "    </tr>\n",
       "    <tr>\n",
       "      <td>4</td>\n",
       "      <td>1650333333</td>\n",
       "      <td>1</td>\n",
       "      <td>1657777777</td>\n",
       "      <td>18/02/2014</td>\n",
       "      <td>18/02/2014</td>\n",
       "      <td>14:35:00</td>\n",
       "      <td>14:52:00</td>\n",
       "      <td>Local</td>\n",
       "      <td>68</td>\n",
       "      <td>2014-02-18 14:35:00</td>\n",
       "      <td>2014-02-18 14:52:00</td>\n",
       "      <td>00:17:00</td>\n",
       "      <td>17.0</td>\n",
       "      <td>14</td>\n",
       "    </tr>\n",
       "  </tbody>\n",
       "</table>\n",
       "</div>"
      ],
      "text/plain": [
       "        phoneNumber  Line  destPhoneNumber   startDate     endDate startTime  \\\n",
       "callID                                                                         \n",
       "0        1650333333     1       8450927777    3/1/2014    3/1/2014  11:00:00   \n",
       "1        1650333333     1       1657777772  22/01/2014  22/01/2014  18:30:00   \n",
       "2        1650333333     1       1657777772  27/01/2014  27/01/2014  15:10:00   \n",
       "3        1650333333     0       8450927777    5/2/2014    5/2/2014  19:55:00   \n",
       "4        1650333333     1       1657777777  18/02/2014  18/02/2014  14:35:00   \n",
       "\n",
       "         endTime      Type  Cost           startCall             endCall  \\\n",
       "callID                                                                     \n",
       "0       11:09:00  National    72 2014-03-01 11:00:00 2014-03-01 11:09:00   \n",
       "1       18:43:00     Local    52 2014-01-22 18:30:00 2014-01-22 18:43:00   \n",
       "2       15:37:00     Local    27 2014-01-27 15:10:00 2014-01-27 15:37:00   \n",
       "3       20:07:00  National    96 2014-05-02 19:55:00 2014-05-02 20:07:00   \n",
       "4       14:52:00     Local    68 2014-02-18 14:35:00 2014-02-18 14:52:00   \n",
       "\n",
       "       callDuration  callDurationMin  startCallHour  \n",
       "callID                                               \n",
       "0          00:09:00              9.0             11  \n",
       "1          00:13:00             13.0             18  \n",
       "2          00:27:00             27.0             15  \n",
       "3          00:12:00             12.0             19  \n",
       "4          00:17:00             17.0             14  "
      ]
     },
     "execution_count": 35,
     "metadata": {},
     "output_type": "execute_result"
    }
   ],
   "source": [
    "df.head()"
   ]
  },
  {
   "cell_type": "code",
   "execution_count": 36,
   "metadata": {},
   "outputs": [],
   "source": [
    "X = df[['Cost', 'callDurationMin', 'startCallHour']]"
   ]
  },
  {
   "cell_type": "code",
   "execution_count": 37,
   "metadata": {},
   "outputs": [
    {
     "data": {
      "text/html": [
       "<div>\n",
       "<style scoped>\n",
       "    .dataframe tbody tr th:only-of-type {\n",
       "        vertical-align: middle;\n",
       "    }\n",
       "\n",
       "    .dataframe tbody tr th {\n",
       "        vertical-align: top;\n",
       "    }\n",
       "\n",
       "    .dataframe thead th {\n",
       "        text-align: right;\n",
       "    }\n",
       "</style>\n",
       "<table border=\"1\" class=\"dataframe\">\n",
       "  <thead>\n",
       "    <tr style=\"text-align: right;\">\n",
       "      <th></th>\n",
       "      <th>Cost</th>\n",
       "      <th>callDurationMin</th>\n",
       "      <th>startCallHour</th>\n",
       "    </tr>\n",
       "    <tr>\n",
       "      <th>callID</th>\n",
       "      <th></th>\n",
       "      <th></th>\n",
       "      <th></th>\n",
       "    </tr>\n",
       "  </thead>\n",
       "  <tbody>\n",
       "    <tr>\n",
       "      <td>0</td>\n",
       "      <td>72</td>\n",
       "      <td>9.0</td>\n",
       "      <td>11</td>\n",
       "    </tr>\n",
       "    <tr>\n",
       "      <td>1</td>\n",
       "      <td>52</td>\n",
       "      <td>13.0</td>\n",
       "      <td>18</td>\n",
       "    </tr>\n",
       "    <tr>\n",
       "      <td>2</td>\n",
       "      <td>27</td>\n",
       "      <td>27.0</td>\n",
       "      <td>15</td>\n",
       "    </tr>\n",
       "    <tr>\n",
       "      <td>3</td>\n",
       "      <td>96</td>\n",
       "      <td>12.0</td>\n",
       "      <td>19</td>\n",
       "    </tr>\n",
       "    <tr>\n",
       "      <td>4</td>\n",
       "      <td>68</td>\n",
       "      <td>17.0</td>\n",
       "      <td>14</td>\n",
       "    </tr>\n",
       "  </tbody>\n",
       "</table>\n",
       "</div>"
      ],
      "text/plain": [
       "        Cost  callDurationMin  startCallHour\n",
       "callID                                      \n",
       "0         72              9.0             11\n",
       "1         52             13.0             18\n",
       "2         27             27.0             15\n",
       "3         96             12.0             19\n",
       "4         68             17.0             14"
      ]
     },
     "execution_count": 37,
     "metadata": {},
     "output_type": "execute_result"
    }
   ],
   "source": [
    "X.head()"
   ]
  },
  {
   "cell_type": "markdown",
   "metadata": {},
   "source": [
    "### The Outlier Detection Algorithm"
   ]
  },
  {
   "cell_type": "code",
   "execution_count": 38,
   "metadata": {},
   "outputs": [],
   "source": [
    "from sklearn.neighbors import LocalOutlierFactor"
   ]
  },
  {
   "cell_type": "code",
   "execution_count": 49,
   "metadata": {},
   "outputs": [],
   "source": [
    "lof = LocalOutlierFactor(n_neighbors=20, contamination=0.05)"
   ]
  },
  {
   "cell_type": "code",
   "execution_count": 50,
   "metadata": {},
   "outputs": [],
   "source": [
    "y_pred = lof.fit_predict(X)"
   ]
  },
  {
   "cell_type": "code",
   "execution_count": 51,
   "metadata": {},
   "outputs": [
    {
     "data": {
      "text/plain": [
       "{-1, 1}"
      ]
     },
     "execution_count": 51,
     "metadata": {},
     "output_type": "execute_result"
    }
   ],
   "source": [
    "set(y_pred)"
   ]
  },
  {
   "cell_type": "code",
   "execution_count": 52,
   "metadata": {},
   "outputs": [],
   "source": [
    "df['Outlier'] = y_pred"
   ]
  },
  {
   "cell_type": "code",
   "execution_count": 53,
   "metadata": {},
   "outputs": [],
   "source": [
    "import matplotlib.pyplot as plt"
   ]
  },
  {
   "cell_type": "code",
   "execution_count": 54,
   "metadata": {},
   "outputs": [
    {
     "data": {
      "text/plain": [
       "Index(['Cost', 'callDurationMin', 'startCallHour'], dtype='object')"
      ]
     },
     "execution_count": 54,
     "metadata": {},
     "output_type": "execute_result"
    }
   ],
   "source": [
    "X.columns"
   ]
  },
  {
   "cell_type": "code",
   "execution_count": 55,
   "metadata": {},
   "outputs": [
    {
     "data": {
      "text/plain": [
       "Text(0, 0.5, 'Start Call Hour')"
      ]
     },
     "execution_count": 55,
     "metadata": {},
     "output_type": "execute_result"
    },
    {
     "data": {
      "image/png": "[encoded data removed]",
      "text/plain": [
       "<Figure size 432x288 with 1 Axes>"
      ]
     },
     "metadata": {
      "needs_background": "light"
     },
     "output_type": "display_data"
    }
   ],
   "source": [
    "plt.scatter(X['callDurationMin'], X['startCallHour'], c=y_pred)\n",
    "plt.xlabel('Call Duration')\n",
    "plt.ylabel('Start Call Hour')"
   ]
  },
  {
   "cell_type": "code",
   "execution_count": 56,
   "metadata": {},
   "outputs": [
    {
     "data": {
      "text/plain": [
       "<matplotlib.collections.PathCollection at 0x1d390826748>"
      ]
     },
     "execution_count": 56,
     "metadata": {},
     "output_type": "execute_result"
    },
    {
     "data": {
      "image/png": "[encoded data removed]",
      "text/plain": [
       "<Figure size 432x288 with 1 Axes>"
      ]
     },
     "metadata": {
      "needs_background": "light"
     },
     "output_type": "display_data"
    }
   ],
   "source": [
    "plt.scatter(X['callDurationMin'], X['Cost'], c=y_pred)"
   ]
  },
  {
   "cell_type": "code",
   "execution_count": 58,
   "metadata": {},
   "outputs": [
    {
     "data": {
      "text/html": [
       "<div>\n",
       "<style scoped>\n",
       "    .dataframe tbody tr th:only-of-type {\n",
       "        vertical-align: middle;\n",
       "    }\n",
       "\n",
       "    .dataframe tbody tr th {\n",
       "        vertical-align: top;\n",
       "    }\n",
       "\n",
       "    .dataframe thead th {\n",
       "        text-align: right;\n",
       "    }\n",
       "</style>\n",
       "<table border=\"1\" class=\"dataframe\">\n",
       "  <thead>\n",
       "    <tr style=\"text-align: right;\">\n",
       "      <th></th>\n",
       "      <th>Cost</th>\n",
       "      <th>callDurationMin</th>\n",
       "      <th>startCallHour</th>\n",
       "    </tr>\n",
       "    <tr>\n",
       "      <th>Outlier</th>\n",
       "      <th></th>\n",
       "      <th></th>\n",
       "      <th></th>\n",
       "    </tr>\n",
       "  </thead>\n",
       "  <tbody>\n",
       "    <tr>\n",
       "      <td>-1</td>\n",
       "      <td>102.701943</td>\n",
       "      <td>15.209100</td>\n",
       "      <td>17.867587</td>\n",
       "    </tr>\n",
       "    <tr>\n",
       "      <td>1</td>\n",
       "      <td>107.100640</td>\n",
       "      <td>18.011966</td>\n",
       "      <td>16.462167</td>\n",
       "    </tr>\n",
       "  </tbody>\n",
       "</table>\n",
       "</div>"
      ],
      "text/plain": [
       "               Cost  callDurationMin  startCallHour\n",
       "Outlier                                            \n",
       "-1       102.701943        15.209100      17.867587\n",
       " 1       107.100640        18.011966      16.462167"
      ]
     },
     "execution_count": 58,
     "metadata": {},
     "output_type": "execute_result"
    }
   ],
   "source": [
    "df.groupby('Outlier')[['Cost', 'callDurationMin', 'startCallHour']].mean()"
   ]
  },
  {
   "cell_type": "code",
   "execution_count": 61,
   "metadata": {},
   "outputs": [
    {
     "data": {
      "text/plain": [
       "array([1, 1, 1, ..., 1, 1, 1])"
      ]
     },
     "execution_count": 61,
     "metadata": {},
     "output_type": "execute_result"
    }
   ],
   "source": [
    "lof.fit_predict(X[['Cost']])"
   ]
  },
  {
   "cell_type": "markdown",
   "metadata": {},
   "source": [
    "## Unusual activity - Phone Number level"
   ]
  },
  {
   "cell_type": "code",
   "execution_count": 62,
   "metadata": {},
   "outputs": [
    {
     "data": {
      "text/plain": [
       "Index(['phoneNumber', 'Line', 'destPhoneNumber', 'startDate', 'endDate',\n",
       "       'startTime', 'endTime', 'Type', 'Cost', 'startCall', 'endCall',\n",
       "       'callDuration', 'callDurationMin', 'startCallHour', 'Outlier'],\n",
       "      dtype='object')"
      ]
     },
     "execution_count": 62,
     "metadata": {},
     "output_type": "execute_result"
    }
   ],
   "source": [
    "df.columns"
   ]
  },
  {
   "cell_type": "code",
   "execution_count": 63,
   "metadata": {},
   "outputs": [],
   "source": [
    "df.drop(columns=['Outlier'], inplace=True)"
   ]
  },
  {
   "cell_type": "code",
   "execution_count": 65,
   "metadata": {},
   "outputs": [],
   "source": [
    "call_history = df.groupby('phoneNumber')[['destPhoneNumber', 'callDurationMin', 'startCallHour', 'Cost']].agg({\n",
    "    'destPhoneNumber':'count', \n",
    "    'callDurationMin':'mean', \n",
    "    'startCallHour':'mean', \n",
    "    'Cost':'mean'\n",
    "})"
   ]
  },
  {
   "cell_type": "code",
   "execution_count": 66,
   "metadata": {},
   "outputs": [
    {
     "data": {
      "text/html": [
       "<div>\n",
       "<style scoped>\n",
       "    .dataframe tbody tr th:only-of-type {\n",
       "        vertical-align: middle;\n",
       "    }\n",
       "\n",
       "    .dataframe tbody tr th {\n",
       "        vertical-align: top;\n",
       "    }\n",
       "\n",
       "    .dataframe thead th {\n",
       "        text-align: right;\n",
       "    }\n",
       "</style>\n",
       "<table border=\"1\" class=\"dataframe\">\n",
       "  <thead>\n",
       "    <tr style=\"text-align: right;\">\n",
       "      <th></th>\n",
       "      <th>destPhoneNumber</th>\n",
       "      <th>callDurationMin</th>\n",
       "      <th>startCallHour</th>\n",
       "      <th>Cost</th>\n",
       "    </tr>\n",
       "    <tr>\n",
       "      <th>phoneNumber</th>\n",
       "      <th></th>\n",
       "      <th></th>\n",
       "      <th></th>\n",
       "      <th></th>\n",
       "    </tr>\n",
       "  </thead>\n",
       "  <tbody>\n",
       "    <tr>\n",
       "      <td>1135222222</td>\n",
       "      <td>367</td>\n",
       "      <td>20.264305</td>\n",
       "      <td>16.694823</td>\n",
       "      <td>133.234332</td>\n",
       "    </tr>\n",
       "    <tr>\n",
       "      <td>1142444444</td>\n",
       "      <td>389</td>\n",
       "      <td>20.053985</td>\n",
       "      <td>16.331620</td>\n",
       "      <td>132.506427</td>\n",
       "    </tr>\n",
       "    <tr>\n",
       "      <td>1159888888</td>\n",
       "      <td>470</td>\n",
       "      <td>16.444681</td>\n",
       "      <td>16.244681</td>\n",
       "      <td>89.819149</td>\n",
       "    </tr>\n",
       "    <tr>\n",
       "      <td>1185333333</td>\n",
       "      <td>370</td>\n",
       "      <td>15.727027</td>\n",
       "      <td>16.845946</td>\n",
       "      <td>105.575676</td>\n",
       "    </tr>\n",
       "    <tr>\n",
       "      <td>1229211111</td>\n",
       "      <td>376</td>\n",
       "      <td>29.829787</td>\n",
       "      <td>16.446809</td>\n",
       "      <td>170.446809</td>\n",
       "    </tr>\n",
       "  </tbody>\n",
       "</table>\n",
       "</div>"
      ],
      "text/plain": [
       "             destPhoneNumber  callDurationMin  startCallHour        Cost\n",
       "phoneNumber                                                             \n",
       "1135222222               367        20.264305      16.694823  133.234332\n",
       "1142444444               389        20.053985      16.331620  132.506427\n",
       "1159888888               470        16.444681      16.244681   89.819149\n",
       "1185333333               370        15.727027      16.845946  105.575676\n",
       "1229211111               376        29.829787      16.446809  170.446809"
      ]
     },
     "execution_count": 66,
     "metadata": {},
     "output_type": "execute_result"
    }
   ],
   "source": [
    "call_history.head()"
   ]
  },
  {
   "cell_type": "code",
   "execution_count": 78,
   "metadata": {},
   "outputs": [],
   "source": [
    "call_types=df.pivot_table(index='phoneNumber', columns='Type', values='destPhoneNumber',aggfunc='count').fillna(0)"
   ]
  },
  {
   "cell_type": "code",
   "execution_count": 79,
   "metadata": {},
   "outputs": [
    {
     "data": {
      "text/html": [
       "<div>\n",
       "<style scoped>\n",
       "    .dataframe tbody tr th:only-of-type {\n",
       "        vertical-align: middle;\n",
       "    }\n",
       "\n",
       "    .dataframe tbody tr th {\n",
       "        vertical-align: top;\n",
       "    }\n",
       "\n",
       "    .dataframe thead th {\n",
       "        text-align: right;\n",
       "    }\n",
       "</style>\n",
       "<table border=\"1\" class=\"dataframe\">\n",
       "  <thead>\n",
       "    <tr style=\"text-align: right;\">\n",
       "      <th>Type</th>\n",
       "      <th>Free</th>\n",
       "      <th>Intl</th>\n",
       "      <th>Local</th>\n",
       "      <th>Mobile</th>\n",
       "      <th>National</th>\n",
       "      <th>PRS</th>\n",
       "    </tr>\n",
       "    <tr>\n",
       "      <th>phoneNumber</th>\n",
       "      <th></th>\n",
       "      <th></th>\n",
       "      <th></th>\n",
       "      <th></th>\n",
       "      <th></th>\n",
       "      <th></th>\n",
       "    </tr>\n",
       "  </thead>\n",
       "  <tbody>\n",
       "    <tr>\n",
       "      <td>1135222222</td>\n",
       "      <td>4.0</td>\n",
       "      <td>26.0</td>\n",
       "      <td>224.0</td>\n",
       "      <td>71.0</td>\n",
       "      <td>40.0</td>\n",
       "      <td>2.0</td>\n",
       "    </tr>\n",
       "    <tr>\n",
       "      <td>1142444444</td>\n",
       "      <td>2.0</td>\n",
       "      <td>32.0</td>\n",
       "      <td>228.0</td>\n",
       "      <td>74.0</td>\n",
       "      <td>53.0</td>\n",
       "      <td>0.0</td>\n",
       "    </tr>\n",
       "    <tr>\n",
       "      <td>1159888888</td>\n",
       "      <td>4.0</td>\n",
       "      <td>30.0</td>\n",
       "      <td>305.0</td>\n",
       "      <td>78.0</td>\n",
       "      <td>50.0</td>\n",
       "      <td>3.0</td>\n",
       "    </tr>\n",
       "    <tr>\n",
       "      <td>1185333333</td>\n",
       "      <td>2.0</td>\n",
       "      <td>27.0</td>\n",
       "      <td>222.0</td>\n",
       "      <td>79.0</td>\n",
       "      <td>39.0</td>\n",
       "      <td>1.0</td>\n",
       "    </tr>\n",
       "    <tr>\n",
       "      <td>1229211111</td>\n",
       "      <td>2.0</td>\n",
       "      <td>17.0</td>\n",
       "      <td>258.0</td>\n",
       "      <td>60.0</td>\n",
       "      <td>36.0</td>\n",
       "      <td>3.0</td>\n",
       "    </tr>\n",
       "  </tbody>\n",
       "</table>\n",
       "</div>"
      ],
      "text/plain": [
       "Type         Free  Intl  Local  Mobile  National  PRS\n",
       "phoneNumber                                          \n",
       "1135222222    4.0  26.0  224.0    71.0      40.0  2.0\n",
       "1142444444    2.0  32.0  228.0    74.0      53.0  0.0\n",
       "1159888888    4.0  30.0  305.0    78.0      50.0  3.0\n",
       "1185333333    2.0  27.0  222.0    79.0      39.0  1.0\n",
       "1229211111    2.0  17.0  258.0    60.0      36.0  3.0"
      ]
     },
     "execution_count": 79,
     "metadata": {},
     "output_type": "execute_result"
    }
   ],
   "source": [
    "call_types.head()"
   ]
  },
  {
   "cell_type": "code",
   "execution_count": 80,
   "metadata": {},
   "outputs": [],
   "source": [
    "X_new = call_history.join(call_types)"
   ]
  },
  {
   "cell_type": "code",
   "execution_count": 81,
   "metadata": {},
   "outputs": [
    {
     "data": {
      "text/html": [
       "<div>\n",
       "<style scoped>\n",
       "    .dataframe tbody tr th:only-of-type {\n",
       "        vertical-align: middle;\n",
       "    }\n",
       "\n",
       "    .dataframe tbody tr th {\n",
       "        vertical-align: top;\n",
       "    }\n",
       "\n",
       "    .dataframe thead th {\n",
       "        text-align: right;\n",
       "    }\n",
       "</style>\n",
       "<table border=\"1\" class=\"dataframe\">\n",
       "  <thead>\n",
       "    <tr style=\"text-align: right;\">\n",
       "      <th></th>\n",
       "      <th>destPhoneNumber</th>\n",
       "      <th>callDurationMin</th>\n",
       "      <th>startCallHour</th>\n",
       "      <th>Cost</th>\n",
       "      <th>Free</th>\n",
       "      <th>Intl</th>\n",
       "      <th>Local</th>\n",
       "      <th>Mobile</th>\n",
       "      <th>National</th>\n",
       "      <th>PRS</th>\n",
       "    </tr>\n",
       "    <tr>\n",
       "      <th>phoneNumber</th>\n",
       "      <th></th>\n",
       "      <th></th>\n",
       "      <th></th>\n",
       "      <th></th>\n",
       "      <th></th>\n",
       "      <th></th>\n",
       "      <th></th>\n",
       "      <th></th>\n",
       "      <th></th>\n",
       "      <th></th>\n",
       "    </tr>\n",
       "  </thead>\n",
       "  <tbody>\n",
       "    <tr>\n",
       "      <td>1135222222</td>\n",
       "      <td>367</td>\n",
       "      <td>20.264305</td>\n",
       "      <td>16.694823</td>\n",
       "      <td>133.234332</td>\n",
       "      <td>4.0</td>\n",
       "      <td>26.0</td>\n",
       "      <td>224.0</td>\n",
       "      <td>71.0</td>\n",
       "      <td>40.0</td>\n",
       "      <td>2.0</td>\n",
       "    </tr>\n",
       "    <tr>\n",
       "      <td>1142444444</td>\n",
       "      <td>389</td>\n",
       "      <td>20.053985</td>\n",
       "      <td>16.331620</td>\n",
       "      <td>132.506427</td>\n",
       "      <td>2.0</td>\n",
       "      <td>32.0</td>\n",
       "      <td>228.0</td>\n",
       "      <td>74.0</td>\n",
       "      <td>53.0</td>\n",
       "      <td>0.0</td>\n",
       "    </tr>\n",
       "    <tr>\n",
       "      <td>1159888888</td>\n",
       "      <td>470</td>\n",
       "      <td>16.444681</td>\n",
       "      <td>16.244681</td>\n",
       "      <td>89.819149</td>\n",
       "      <td>4.0</td>\n",
       "      <td>30.0</td>\n",
       "      <td>305.0</td>\n",
       "      <td>78.0</td>\n",
       "      <td>50.0</td>\n",
       "      <td>3.0</td>\n",
       "    </tr>\n",
       "    <tr>\n",
       "      <td>1185333333</td>\n",
       "      <td>370</td>\n",
       "      <td>15.727027</td>\n",
       "      <td>16.845946</td>\n",
       "      <td>105.575676</td>\n",
       "      <td>2.0</td>\n",
       "      <td>27.0</td>\n",
       "      <td>222.0</td>\n",
       "      <td>79.0</td>\n",
       "      <td>39.0</td>\n",
       "      <td>1.0</td>\n",
       "    </tr>\n",
       "    <tr>\n",
       "      <td>1229211111</td>\n",
       "      <td>376</td>\n",
       "      <td>29.829787</td>\n",
       "      <td>16.446809</td>\n",
       "      <td>170.446809</td>\n",
       "      <td>2.0</td>\n",
       "      <td>17.0</td>\n",
       "      <td>258.0</td>\n",
       "      <td>60.0</td>\n",
       "      <td>36.0</td>\n",
       "      <td>3.0</td>\n",
       "    </tr>\n",
       "  </tbody>\n",
       "</table>\n",
       "</div>"
      ],
      "text/plain": [
       "             destPhoneNumber  callDurationMin  startCallHour        Cost  \\\n",
       "phoneNumber                                                                \n",
       "1135222222               367        20.264305      16.694823  133.234332   \n",
       "1142444444               389        20.053985      16.331620  132.506427   \n",
       "1159888888               470        16.444681      16.244681   89.819149   \n",
       "1185333333               370        15.727027      16.845946  105.575676   \n",
       "1229211111               376        29.829787      16.446809  170.446809   \n",
       "\n",
       "             Free  Intl  Local  Mobile  National  PRS  \n",
       "phoneNumber                                            \n",
       "1135222222    4.0  26.0  224.0    71.0      40.0  2.0  \n",
       "1142444444    2.0  32.0  228.0    74.0      53.0  0.0  \n",
       "1159888888    4.0  30.0  305.0    78.0      50.0  3.0  \n",
       "1185333333    2.0  27.0  222.0    79.0      39.0  1.0  \n",
       "1229211111    2.0  17.0  258.0    60.0      36.0  3.0  "
      ]
     },
     "execution_count": 81,
     "metadata": {},
     "output_type": "execute_result"
    }
   ],
   "source": [
    "X_new.head()"
   ]
  },
  {
   "cell_type": "code",
   "execution_count": 83,
   "metadata": {},
   "outputs": [],
   "source": [
    "y_pred_new = LocalOutlierFactor(contamination=0.1).fit_predict(X_new)"
   ]
  },
  {
   "cell_type": "code",
   "execution_count": 84,
   "metadata": {},
   "outputs": [],
   "source": [
    "X_new['Outlier'] = y_pred_new"
   ]
  },
  {
   "cell_type": "code",
   "execution_count": 85,
   "metadata": {},
   "outputs": [
    {
     "data": {
      "text/html": [
       "<div>\n",
       "<style scoped>\n",
       "    .dataframe tbody tr th:only-of-type {\n",
       "        vertical-align: middle;\n",
       "    }\n",
       "\n",
       "    .dataframe tbody tr th {\n",
       "        vertical-align: top;\n",
       "    }\n",
       "\n",
       "    .dataframe thead th {\n",
       "        text-align: right;\n",
       "    }\n",
       "</style>\n",
       "<table border=\"1\" class=\"dataframe\">\n",
       "  <thead>\n",
       "    <tr style=\"text-align: right;\">\n",
       "      <th></th>\n",
       "      <th>destPhoneNumber</th>\n",
       "      <th>callDurationMin</th>\n",
       "      <th>startCallHour</th>\n",
       "      <th>Cost</th>\n",
       "      <th>Free</th>\n",
       "      <th>Intl</th>\n",
       "      <th>Local</th>\n",
       "      <th>Mobile</th>\n",
       "      <th>National</th>\n",
       "      <th>PRS</th>\n",
       "    </tr>\n",
       "    <tr>\n",
       "      <th>Outlier</th>\n",
       "      <th></th>\n",
       "      <th></th>\n",
       "      <th></th>\n",
       "      <th></th>\n",
       "      <th></th>\n",
       "      <th></th>\n",
       "      <th></th>\n",
       "      <th></th>\n",
       "      <th></th>\n",
       "      <th></th>\n",
       "    </tr>\n",
       "  </thead>\n",
       "  <tbody>\n",
       "    <tr>\n",
       "      <td>-1</td>\n",
       "      <td>426.300000</td>\n",
       "      <td>21.874226</td>\n",
       "      <td>16.425146</td>\n",
       "      <td>137.640560</td>\n",
       "      <td>1.900000</td>\n",
       "      <td>27.300000</td>\n",
       "      <td>261.300000</td>\n",
       "      <td>76.900000</td>\n",
       "      <td>57.100000</td>\n",
       "      <td>1.800000</td>\n",
       "    </tr>\n",
       "    <tr>\n",
       "      <td>1</td>\n",
       "      <td>417.307692</td>\n",
       "      <td>17.334717</td>\n",
       "      <td>16.545002</td>\n",
       "      <td>102.819225</td>\n",
       "      <td>2.516484</td>\n",
       "      <td>25.659341</td>\n",
       "      <td>259.593407</td>\n",
       "      <td>76.362637</td>\n",
       "      <td>50.769231</td>\n",
       "      <td>2.406593</td>\n",
       "    </tr>\n",
       "  </tbody>\n",
       "</table>\n",
       "</div>"
      ],
      "text/plain": [
       "         destPhoneNumber  callDurationMin  startCallHour        Cost  \\\n",
       "Outlier                                                                \n",
       "-1            426.300000        21.874226      16.425146  137.640560   \n",
       " 1            417.307692        17.334717      16.545002  102.819225   \n",
       "\n",
       "             Free       Intl       Local     Mobile   National       PRS  \n",
       "Outlier                                                                   \n",
       "-1       1.900000  27.300000  261.300000  76.900000  57.100000  1.800000  \n",
       " 1       2.516484  25.659341  259.593407  76.362637  50.769231  2.406593  "
      ]
     },
     "execution_count": 85,
     "metadata": {},
     "output_type": "execute_result"
    }
   ],
   "source": [
    "X_new.groupby('Outlier').mean()"
   ]
  },
  {
   "cell_type": "code",
   "execution_count": 87,
   "metadata": {},
   "outputs": [
    {
     "data": {
      "text/plain": [
       "<matplotlib.collections.PathCollection at 0x1d390b6bf48>"
      ]
     },
     "execution_count": 87,
     "metadata": {},
     "output_type": "execute_result"
    },
    {
     "data": {
      "image/png": "[encoded data removed]",
      "text/plain": [
       "<Figure size 432x288 with 1 Axes>"
      ]
     },
     "metadata": {
      "needs_background": "light"
     },
     "output_type": "display_data"
    }
   ],
   "source": [
    "plt.scatter(X_new['callDurationMin'],X_new['Cost'],  c=y_pred_new)"
   ]
  },
  {
   "cell_type": "code",
   "execution_count": 88,
   "metadata": {},
   "outputs": [
    {
     "data": {
      "text/plain": [
       "<matplotlib.collections.PathCollection at 0x1d390bea3c8>"
      ]
     },
     "execution_count": 88,
     "metadata": {},
     "output_type": "execute_result"
    },
    {
     "data": {
      "image/png": "[encoded data removed]",
      "text/plain": [
       "<Figure size 432x288 with 1 Axes>"
      ]
     },
     "metadata": {
      "needs_background": "light"
     },
     "output_type": "display_data"
    }
   ],
   "source": [
    "plt.scatter(X_new['callDurationMin'],X_new['National'],  c=y_pred_new)"
   ]
  },
  {
   "cell_type": "code",
   "execution_count": 94,
   "metadata": {},
   "outputs": [
    {
     "data": {
      "text/plain": [
       "Text(0.5, 0, 'Average call duration in minutes')"
      ]
     },
     "execution_count": 94,
     "metadata": {},
     "output_type": "execute_result"
    },
    {
     "data": {
      "image/png": "[encoded data removed]",
      "text/plain": [
       "<Figure size 720x720 with 1 Axes>"
      ]
     },
     "metadata": {
      "needs_background": "light"
     },
     "output_type": "display_data"
    }
   ],
   "source": [
    "from mpl_toolkits.mplot3d import Axes3D\n",
    "fig = plt.figure(figsize=(10,10))\n",
    "ax = fig.add_subplot(111, projection='3d')\n",
    "ax.scatter(X_new['Cost'], X_new['National'], X_new['callDurationMin'], c=y_pred_new)\n",
    "ax.set_xlabel('Average call cost')\n",
    "ax.set_ylabel('Average number of national calls')\n",
    "ax.set_zlabel('Average call duration in minutes')"
   ]
  },
  {
   "cell_type": "code",
   "execution_count": 99,
   "metadata": {},
   "outputs": [],
   "source": [
    "call_types_min=df.pivot_table(index='phoneNumber',columns='Type',values='callDurationMin').fillna(0)"
   ]
  },
  {
   "cell_type": "code",
   "execution_count": 100,
   "metadata": {},
   "outputs": [],
   "source": [
    "y_ctm = lof.fit_predict(call_types_min)"
   ]
  },
  {
   "cell_type": "code",
   "execution_count": 101,
   "metadata": {},
   "outputs": [
    {
     "data": {
      "text/html": [
       "<div>\n",
       "<style scoped>\n",
       "    .dataframe tbody tr th:only-of-type {\n",
       "        vertical-align: middle;\n",
       "    }\n",
       "\n",
       "    .dataframe tbody tr th {\n",
       "        vertical-align: top;\n",
       "    }\n",
       "\n",
       "    .dataframe thead th {\n",
       "        text-align: right;\n",
       "    }\n",
       "</style>\n",
       "<table border=\"1\" class=\"dataframe\">\n",
       "  <thead>\n",
       "    <tr style=\"text-align: right;\">\n",
       "      <th>Type</th>\n",
       "      <th>Free</th>\n",
       "      <th>Intl</th>\n",
       "      <th>Local</th>\n",
       "      <th>Mobile</th>\n",
       "      <th>National</th>\n",
       "      <th>PRS</th>\n",
       "    </tr>\n",
       "    <tr>\n",
       "      <th>phoneNumber</th>\n",
       "      <th></th>\n",
       "      <th></th>\n",
       "      <th></th>\n",
       "      <th></th>\n",
       "      <th></th>\n",
       "      <th></th>\n",
       "    </tr>\n",
       "  </thead>\n",
       "  <tbody>\n",
       "    <tr>\n",
       "      <td>1135222222</td>\n",
       "      <td>14.0</td>\n",
       "      <td>24.461538</td>\n",
       "      <td>23.991071</td>\n",
       "      <td>10.859155</td>\n",
       "      <td>14.725000</td>\n",
       "      <td>5.500000</td>\n",
       "    </tr>\n",
       "    <tr>\n",
       "      <td>1142444444</td>\n",
       "      <td>8.0</td>\n",
       "      <td>22.687500</td>\n",
       "      <td>24.184211</td>\n",
       "      <td>10.500000</td>\n",
       "      <td>14.490566</td>\n",
       "      <td>0.000000</td>\n",
       "    </tr>\n",
       "    <tr>\n",
       "      <td>1159888888</td>\n",
       "      <td>9.0</td>\n",
       "      <td>16.100000</td>\n",
       "      <td>19.904918</td>\n",
       "      <td>8.076923</td>\n",
       "      <td>10.120000</td>\n",
       "      <td>1.000000</td>\n",
       "    </tr>\n",
       "    <tr>\n",
       "      <td>1185333333</td>\n",
       "      <td>8.0</td>\n",
       "      <td>16.074074</td>\n",
       "      <td>18.743243</td>\n",
       "      <td>9.911392</td>\n",
       "      <td>10.846154</td>\n",
       "      <td>2.000000</td>\n",
       "    </tr>\n",
       "    <tr>\n",
       "      <td>1229211111</td>\n",
       "      <td>20.5</td>\n",
       "      <td>32.647059</td>\n",
       "      <td>33.379845</td>\n",
       "      <td>18.750000</td>\n",
       "      <td>23.972222</td>\n",
       "      <td>6.666667</td>\n",
       "    </tr>\n",
       "  </tbody>\n",
       "</table>\n",
       "</div>"
      ],
      "text/plain": [
       "Type         Free       Intl      Local     Mobile   National       PRS\n",
       "phoneNumber                                                            \n",
       "1135222222   14.0  24.461538  23.991071  10.859155  14.725000  5.500000\n",
       "1142444444    8.0  22.687500  24.184211  10.500000  14.490566  0.000000\n",
       "1159888888    9.0  16.100000  19.904918   8.076923  10.120000  1.000000\n",
       "1185333333    8.0  16.074074  18.743243   9.911392  10.846154  2.000000\n",
       "1229211111   20.5  32.647059  33.379845  18.750000  23.972222  6.666667"
      ]
     },
     "execution_count": 101,
     "metadata": {},
     "output_type": "execute_result"
    }
   ],
   "source": [
    "call_types_min.head()"
   ]
  },
  {
   "cell_type": "code",
   "execution_count": 102,
   "metadata": {},
   "outputs": [
    {
     "data": {
      "text/plain": [
       "<matplotlib.collections.PathCollection at 0x1d394397088>"
      ]
     },
     "execution_count": 102,
     "metadata": {},
     "output_type": "execute_result"
    },
    {
     "data": {
      "image/png": "[encoded data removed]",
      "text/plain": [
       "<Figure size 432x288 with 1 Axes>"
      ]
     },
     "metadata": {
      "needs_background": "light"
     },
     "output_type": "display_data"
    }
   ],
   "source": [
    "plt.scatter(call_types_min['Local'], call_types_min['Intl'], c=y_ctm)"
   ]
  },
  {
   "cell_type": "code",
   "execution_count": 103,
   "metadata": {},
   "outputs": [
    {
     "data": {
      "text/plain": [
       "0    11\n",
       "1    18\n",
       "2    15\n",
       "3    19\n",
       "4    14\n",
       "Name: startCallHour, dtype: int64"
      ]
     },
     "execution_count": 103,
     "metadata": {},
     "output_type": "execute_result"
    }
   ],
   "source": [
    "df['startCallHour']."
   ]
  },
  {
   "cell_type": "code",
   "execution_count": 104,
   "metadata": {},
   "outputs": [
    {
     "data": {
      "text/html": [
       "<div>\n",
       "<style scoped>\n",
       "    .dataframe tbody tr th:only-of-type {\n",
       "        vertical-align: middle;\n",
       "    }\n",
       "\n",
       "    .dataframe tbody tr th {\n",
       "        vertical-align: top;\n",
       "    }\n",
       "\n",
       "    .dataframe thead th {\n",
       "        text-align: right;\n",
       "    }\n",
       "</style>\n",
       "<table border=\"1\" class=\"dataframe\">\n",
       "  <thead>\n",
       "    <tr style=\"text-align: right;\">\n",
       "      <th></th>\n",
       "      <th>destPhoneNumber</th>\n",
       "      <th>callDurationMin</th>\n",
       "      <th>startCallHour</th>\n",
       "      <th>Cost</th>\n",
       "      <th>Free</th>\n",
       "      <th>Intl</th>\n",
       "      <th>Local</th>\n",
       "      <th>Mobile</th>\n",
       "      <th>National</th>\n",
       "      <th>PRS</th>\n",
       "      <th>Outlier</th>\n",
       "    </tr>\n",
       "    <tr>\n",
       "      <th>phoneNumber</th>\n",
       "      <th></th>\n",
       "      <th></th>\n",
       "      <th></th>\n",
       "      <th></th>\n",
       "      <th></th>\n",
       "      <th></th>\n",
       "      <th></th>\n",
       "      <th></th>\n",
       "      <th></th>\n",
       "      <th></th>\n",
       "      <th></th>\n",
       "    </tr>\n",
       "  </thead>\n",
       "  <tbody>\n",
       "    <tr>\n",
       "      <td>1135222222</td>\n",
       "      <td>367</td>\n",
       "      <td>20.264305</td>\n",
       "      <td>16.694823</td>\n",
       "      <td>133.234332</td>\n",
       "      <td>4.0</td>\n",
       "      <td>26.0</td>\n",
       "      <td>224.0</td>\n",
       "      <td>71.0</td>\n",
       "      <td>40.0</td>\n",
       "      <td>2.0</td>\n",
       "      <td>1</td>\n",
       "    </tr>\n",
       "    <tr>\n",
       "      <td>1142444444</td>\n",
       "      <td>389</td>\n",
       "      <td>20.053985</td>\n",
       "      <td>16.331620</td>\n",
       "      <td>132.506427</td>\n",
       "      <td>2.0</td>\n",
       "      <td>32.0</td>\n",
       "      <td>228.0</td>\n",
       "      <td>74.0</td>\n",
       "      <td>53.0</td>\n",
       "      <td>0.0</td>\n",
       "      <td>1</td>\n",
       "    </tr>\n",
       "    <tr>\n",
       "      <td>1159888888</td>\n",
       "      <td>470</td>\n",
       "      <td>16.444681</td>\n",
       "      <td>16.244681</td>\n",
       "      <td>89.819149</td>\n",
       "      <td>4.0</td>\n",
       "      <td>30.0</td>\n",
       "      <td>305.0</td>\n",
       "      <td>78.0</td>\n",
       "      <td>50.0</td>\n",
       "      <td>3.0</td>\n",
       "      <td>1</td>\n",
       "    </tr>\n",
       "    <tr>\n",
       "      <td>1185333333</td>\n",
       "      <td>370</td>\n",
       "      <td>15.727027</td>\n",
       "      <td>16.845946</td>\n",
       "      <td>105.575676</td>\n",
       "      <td>2.0</td>\n",
       "      <td>27.0</td>\n",
       "      <td>222.0</td>\n",
       "      <td>79.0</td>\n",
       "      <td>39.0</td>\n",
       "      <td>1.0</td>\n",
       "      <td>1</td>\n",
       "    </tr>\n",
       "    <tr>\n",
       "      <td>1229211111</td>\n",
       "      <td>376</td>\n",
       "      <td>29.829787</td>\n",
       "      <td>16.446809</td>\n",
       "      <td>170.446809</td>\n",
       "      <td>2.0</td>\n",
       "      <td>17.0</td>\n",
       "      <td>258.0</td>\n",
       "      <td>60.0</td>\n",
       "      <td>36.0</td>\n",
       "      <td>3.0</td>\n",
       "      <td>1</td>\n",
       "    </tr>\n",
       "  </tbody>\n",
       "</table>\n",
       "</div>"
      ],
      "text/plain": [
       "             destPhoneNumber  callDurationMin  startCallHour        Cost  \\\n",
       "phoneNumber                                                                \n",
       "1135222222               367        20.264305      16.694823  133.234332   \n",
       "1142444444               389        20.053985      16.331620  132.506427   \n",
       "1159888888               470        16.444681      16.244681   89.819149   \n",
       "1185333333               370        15.727027      16.845946  105.575676   \n",
       "1229211111               376        29.829787      16.446809  170.446809   \n",
       "\n",
       "             Free  Intl  Local  Mobile  National  PRS  Outlier  \n",
       "phoneNumber                                                     \n",
       "1135222222    4.0  26.0  224.0    71.0      40.0  2.0        1  \n",
       "1142444444    2.0  32.0  228.0    74.0      53.0  0.0        1  \n",
       "1159888888    4.0  30.0  305.0    78.0      50.0  3.0        1  \n",
       "1185333333    2.0  27.0  222.0    79.0      39.0  1.0        1  \n",
       "1229211111    2.0  17.0  258.0    60.0      36.0  3.0        1  "
      ]
     },
     "execution_count": 104,
     "metadata": {},
     "output_type": "execute_result"
    }
   ],
   "source": [
    "X_new.head()"
   ]
  },
  {
   "cell_type": "code",
   "execution_count": 106,
   "metadata": {},
   "outputs": [
    {
     "data": {
      "text/plain": [
       "array([ 1, -1], dtype=int64)"
      ]
     },
     "execution_count": 106,
     "metadata": {},
     "output_type": "execute_result"
    }
   ],
   "source": [
    "X_new['Outlier'].unique()"
   ]
  },
  {
   "cell_type": "markdown",
   "metadata": {},
   "source": [
    "## EXERCISE\n",
    "\n",
    "- Build a supervised learning model using as `y` the column `Outlier` that we created.\n",
    "- Try `RandomForestClassifier` using `GridSearchCV` for the parameter `n_estimators`: 10,50,100, 100+.\n"
   ]
  },
  {
   "cell_type": "code",
   "execution_count": 105,
   "metadata": {},
   "outputs": [],
   "source": [
    "from sklearn.ensemble import RandomForestClassifier\n",
    "from sklearn.model_selection import GridSearchCV"
   ]
  }
 ],
 "metadata": {
  "kernelspec": {
   "display_name": "Python 3",
   "language": "python",
   "name": "python3"
  },
  "language_info": {
   "codemirror_mode": {
    "name": "ipython",
    "version": 3
   },
   "file_extension": ".py",
   "mimetype": "text/x-python",
   "name": "python",
   "nbconvert_exporter": "python",
   "pygments_lexer": "ipython3",
   "version": "3.7.4"
  }
 },
 "nbformat": 4,
 "nbformat_minor": 2
}

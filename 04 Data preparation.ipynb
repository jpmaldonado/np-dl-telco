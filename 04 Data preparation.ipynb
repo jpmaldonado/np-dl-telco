{
 "cells": [
  {
   "cell_type": "code",
   "execution_count": 1,
   "metadata": {},
   "outputs": [],
   "source": [
    "import pandas as pd\n",
    "%matplotlib inline"
   ]
  },
  {
   "cell_type": "code",
   "execution_count": 2,
   "metadata": {},
   "outputs": [],
   "source": [
    "df = pd.read_csv('./data/cable-complaints.csv')"
   ]
  },
  {
   "cell_type": "code",
   "execution_count": 3,
   "metadata": {},
   "outputs": [
    {
     "data": {
      "text/html": [
       "<div>\n",
       "<style scoped>\n",
       "    .dataframe tbody tr th:only-of-type {\n",
       "        vertical-align: middle;\n",
       "    }\n",
       "\n",
       "    .dataframe tbody tr th {\n",
       "        vertical-align: top;\n",
       "    }\n",
       "\n",
       "    .dataframe thead th {\n",
       "        text-align: right;\n",
       "    }\n",
       "</style>\n",
       "<table border=\"1\" class=\"dataframe\">\n",
       "  <thead>\n",
       "    <tr style=\"text-align: right;\">\n",
       "      <th></th>\n",
       "      <th>Date of Complaint</th>\n",
       "      <th>Date of Closure</th>\n",
       "      <th>Street</th>\n",
       "      <th>City</th>\n",
       "      <th>State</th>\n",
       "      <th>ZIP</th>\n",
       "      <th>Cable Provider</th>\n",
       "      <th>Billing</th>\n",
       "      <th>Service</th>\n",
       "      <th>Internet</th>\n",
       "      <th>...</th>\n",
       "      <th>Reception</th>\n",
       "      <th>Construction</th>\n",
       "      <th>Marketing</th>\n",
       "      <th>Installation</th>\n",
       "      <th>Cable Service Availability</th>\n",
       "      <th>Cable Line Related</th>\n",
       "      <th>Telephone Service</th>\n",
       "      <th>Other</th>\n",
       "      <th>Type</th>\n",
       "      <th>Location</th>\n",
       "    </tr>\n",
       "  </thead>\n",
       "  <tbody>\n",
       "    <tr>\n",
       "      <td>0</td>\n",
       "      <td>1/1/1998</td>\n",
       "      <td>1/5/1998</td>\n",
       "      <td>null Avenue</td>\n",
       "      <td>Gaithersburg</td>\n",
       "      <td>MD</td>\n",
       "      <td>20878.0</td>\n",
       "      <td>Comcast</td>\n",
       "      <td>NaN</td>\n",
       "      <td>NaN</td>\n",
       "      <td>NaN</td>\n",
       "      <td>...</td>\n",
       "      <td>NaN</td>\n",
       "      <td>1.0</td>\n",
       "      <td>NaN</td>\n",
       "      <td>NaN</td>\n",
       "      <td>NaN</td>\n",
       "      <td>NaN</td>\n",
       "      <td>NaN</td>\n",
       "      <td>NaN</td>\n",
       "      <td>Complaint</td>\n",
       "      <td>null Avenue\\nGaithersburg, MD 20878</td>\n",
       "    </tr>\n",
       "    <tr>\n",
       "      <td>1</td>\n",
       "      <td>1/3/1998</td>\n",
       "      <td>12/31/2000</td>\n",
       "      <td>SAFFRON LANE</td>\n",
       "      <td>SILVER SPRING</td>\n",
       "      <td>MD</td>\n",
       "      <td>20901.0</td>\n",
       "      <td>Cable/TV Montgomery</td>\n",
       "      <td>1.0</td>\n",
       "      <td>NaN</td>\n",
       "      <td>NaN</td>\n",
       "      <td>...</td>\n",
       "      <td>1.0</td>\n",
       "      <td>NaN</td>\n",
       "      <td>NaN</td>\n",
       "      <td>NaN</td>\n",
       "      <td>NaN</td>\n",
       "      <td>NaN</td>\n",
       "      <td>NaN</td>\n",
       "      <td>NaN</td>\n",
       "      <td>Complaint</td>\n",
       "      <td>SAFFRON LANE\\nSILVER SPRING, MD 20901</td>\n",
       "    </tr>\n",
       "    <tr>\n",
       "      <td>2</td>\n",
       "      <td>1/3/1998</td>\n",
       "      <td>12/31/2000</td>\n",
       "      <td>DRURY RD</td>\n",
       "      <td>SILVER SPRING</td>\n",
       "      <td>MD</td>\n",
       "      <td>20906.0</td>\n",
       "      <td>Comcast</td>\n",
       "      <td>NaN</td>\n",
       "      <td>NaN</td>\n",
       "      <td>NaN</td>\n",
       "      <td>...</td>\n",
       "      <td>NaN</td>\n",
       "      <td>1.0</td>\n",
       "      <td>NaN</td>\n",
       "      <td>NaN</td>\n",
       "      <td>NaN</td>\n",
       "      <td>NaN</td>\n",
       "      <td>NaN</td>\n",
       "      <td>NaN</td>\n",
       "      <td>Complaint</td>\n",
       "      <td>DRURY RD\\nSILVER SPRING, MD 20906</td>\n",
       "    </tr>\n",
       "    <tr>\n",
       "      <td>3</td>\n",
       "      <td>1/6/1998</td>\n",
       "      <td>12/31/2000</td>\n",
       "      <td>WOODMONT AVE., #401</td>\n",
       "      <td>BETHESDA</td>\n",
       "      <td>MD</td>\n",
       "      <td>20814.0</td>\n",
       "      <td>Cable/TV Montgomery</td>\n",
       "      <td>NaN</td>\n",
       "      <td>NaN</td>\n",
       "      <td>NaN</td>\n",
       "      <td>...</td>\n",
       "      <td>NaN</td>\n",
       "      <td>NaN</td>\n",
       "      <td>NaN</td>\n",
       "      <td>NaN</td>\n",
       "      <td>NaN</td>\n",
       "      <td>NaN</td>\n",
       "      <td>NaN</td>\n",
       "      <td>NaN</td>\n",
       "      <td>Complaint</td>\n",
       "      <td>WOODMONT AVE., #401\\nBETHESDA, MD 20814</td>\n",
       "    </tr>\n",
       "    <tr>\n",
       "      <td>4</td>\n",
       "      <td>1/6/1998</td>\n",
       "      <td>12/31/2000</td>\n",
       "      <td>EAST WEST HWY, #616</td>\n",
       "      <td>SILVER SPRING</td>\n",
       "      <td>MD</td>\n",
       "      <td>20910.0</td>\n",
       "      <td>Cable/TV Montgomery</td>\n",
       "      <td>1.0</td>\n",
       "      <td>1.0</td>\n",
       "      <td>NaN</td>\n",
       "      <td>...</td>\n",
       "      <td>NaN</td>\n",
       "      <td>NaN</td>\n",
       "      <td>NaN</td>\n",
       "      <td>NaN</td>\n",
       "      <td>NaN</td>\n",
       "      <td>NaN</td>\n",
       "      <td>NaN</td>\n",
       "      <td>NaN</td>\n",
       "      <td>Complaint</td>\n",
       "      <td>EAST WEST HWY, #616\\nSILVER SPRING, MD 20910</td>\n",
       "    </tr>\n",
       "  </tbody>\n",
       "</table>\n",
       "<p>5 rows × 21 columns</p>\n",
       "</div>"
      ],
      "text/plain": [
       "  Date of Complaint Date of Closure               Street           City State  \\\n",
       "0          1/1/1998        1/5/1998          null Avenue   Gaithersburg    MD   \n",
       "1          1/3/1998      12/31/2000         SAFFRON LANE  SILVER SPRING    MD   \n",
       "2          1/3/1998      12/31/2000             DRURY RD  SILVER SPRING    MD   \n",
       "3          1/6/1998      12/31/2000  WOODMONT AVE., #401       BETHESDA    MD   \n",
       "4          1/6/1998      12/31/2000  EAST WEST HWY, #616  SILVER SPRING    MD   \n",
       "\n",
       "       ZIP       Cable Provider  Billing  Service  Internet  ...  Reception  \\\n",
       "0  20878.0              Comcast      NaN      NaN       NaN  ...        NaN   \n",
       "1  20901.0  Cable/TV Montgomery      1.0      NaN       NaN  ...        1.0   \n",
       "2  20906.0              Comcast      NaN      NaN       NaN  ...        NaN   \n",
       "3  20814.0  Cable/TV Montgomery      NaN      NaN       NaN  ...        NaN   \n",
       "4  20910.0  Cable/TV Montgomery      1.0      1.0       NaN  ...        NaN   \n",
       "\n",
       "   Construction  Marketing  Installation  Cable Service Availability  \\\n",
       "0           1.0        NaN           NaN                         NaN   \n",
       "1           NaN        NaN           NaN                         NaN   \n",
       "2           1.0        NaN           NaN                         NaN   \n",
       "3           NaN        NaN           NaN                         NaN   \n",
       "4           NaN        NaN           NaN                         NaN   \n",
       "\n",
       "   Cable Line Related  Telephone Service  Other       Type  \\\n",
       "0                 NaN                NaN    NaN  Complaint   \n",
       "1                 NaN                NaN    NaN  Complaint   \n",
       "2                 NaN                NaN    NaN  Complaint   \n",
       "3                 NaN                NaN    NaN  Complaint   \n",
       "4                 NaN                NaN    NaN  Complaint   \n",
       "\n",
       "                                       Location  \n",
       "0           null Avenue\\nGaithersburg, MD 20878  \n",
       "1         SAFFRON LANE\\nSILVER SPRING, MD 20901  \n",
       "2             DRURY RD\\nSILVER SPRING, MD 20906  \n",
       "3       WOODMONT AVE., #401\\nBETHESDA, MD 20814  \n",
       "4  EAST WEST HWY, #616\\nSILVER SPRING, MD 20910  \n",
       "\n",
       "[5 rows x 21 columns]"
      ]
     },
     "execution_count": 3,
     "metadata": {},
     "output_type": "execute_result"
    }
   ],
   "source": [
    "df.head()"
   ]
  },
  {
   "cell_type": "markdown",
   "metadata": {},
   "source": [
    "### Preprocessing steps\n",
    "1. Check correct data types.\n",
    "2. Examine unique values in different columns.\n",
    "3. Decide what to do with missing values:\n",
    "    - Drop them.\n",
    "    - Fill the missing values ==> Data imputation."
   ]
  },
  {
   "cell_type": "code",
   "execution_count": 4,
   "metadata": {},
   "outputs": [
    {
     "name": "stdout",
     "output_type": "stream",
     "text": [
      "<class 'pandas.core.frame.DataFrame'>\n",
      "RangeIndex: 23969 entries, 0 to 23968\n",
      "Data columns (total 21 columns):\n",
      "Date of Complaint             23969 non-null object\n",
      "Date of Closure               23959 non-null object\n",
      "Street                        23759 non-null object\n",
      "City                          23738 non-null object\n",
      "State                         23960 non-null object\n",
      "ZIP                           23529 non-null float64\n",
      "Cable Provider                23968 non-null object\n",
      "Billing                       9062 non-null float64\n",
      "Service                       6124 non-null float64\n",
      "Internet                      4423 non-null float64\n",
      "Telephone Answering Time      2267 non-null float64\n",
      "Reception                     5703 non-null float64\n",
      "Construction                  1359 non-null float64\n",
      "Marketing                     1172 non-null float64\n",
      "Installation                  1201 non-null float64\n",
      "Cable Service Availability    254 non-null float64\n",
      "Cable Line Related            2341 non-null float64\n",
      "Telephone Service             1020 non-null float64\n",
      "Other                         1477 non-null float64\n",
      "Type                          23969 non-null object\n",
      "Location                      23969 non-null object\n",
      "dtypes: float64(13), object(8)\n",
      "memory usage: 3.8+ MB\n"
     ]
    }
   ],
   "source": [
    "df.info()"
   ]
  },
  {
   "cell_type": "code",
   "execution_count": 5,
   "metadata": {},
   "outputs": [
    {
     "data": {
      "text/plain": [
       "array(['Comcast', 'Cable/TV Montgomery', 'Cable TV Mo /Comcast',\n",
       "       'Starpower', 'Star Power', 'Starpower/RCN', 'RCN', 'Verizon',\n",
       "       'Crown Castle', 'Inquiry', 'ICBN', 'Service Request', nan],\n",
       "      dtype=object)"
      ]
     },
     "execution_count": 5,
     "metadata": {},
     "output_type": "execute_result"
    }
   ],
   "source": [
    "df['Cable Provider'].unique()"
   ]
  },
  {
   "cell_type": "code",
   "execution_count": 6,
   "metadata": {},
   "outputs": [],
   "source": [
    "df['City'].unique();"
   ]
  },
  {
   "cell_type": "markdown",
   "metadata": {},
   "source": [
    "### Use `apply` with functions / inline (anonymous) functions"
   ]
  },
  {
   "cell_type": "markdown",
   "metadata": {},
   "source": [
    "**Example:** Get all the city names in lowercase."
   ]
  },
  {
   "cell_type": "code",
   "execution_count": 7,
   "metadata": {},
   "outputs": [],
   "source": [
    "df['City Clean'] = df['City'].fillna('Unknown') #First, get rid of NA"
   ]
  },
  {
   "cell_type": "code",
   "execution_count": 8,
   "metadata": {},
   "outputs": [
    {
     "data": {
      "text/plain": [
       "0     Gaithersburg\n",
       "1    SILVER SPRING\n",
       "Name: City Clean, dtype: object"
      ]
     },
     "execution_count": 8,
     "metadata": {},
     "output_type": "execute_result"
    }
   ],
   "source": [
    "df['City Clean'].head(2)"
   ]
  },
  {
   "cell_type": "code",
   "execution_count": 9,
   "metadata": {},
   "outputs": [
    {
     "data": {
      "text/plain": [
       "'Wien'"
      ]
     },
     "execution_count": 9,
     "metadata": {},
     "output_type": "execute_result"
    }
   ],
   "source": [
    "'WieN'.lower().capitalize()"
   ]
  },
  {
   "cell_type": "code",
   "execution_count": 10,
   "metadata": {},
   "outputs": [],
   "source": [
    "df['City Clean'] = df['City Clean'].apply(lambda txt: txt.lower().capitalize())"
   ]
  },
  {
   "cell_type": "markdown",
   "metadata": {},
   "source": [
    "### Cleaning date columns"
   ]
  },
  {
   "cell_type": "code",
   "execution_count": 11,
   "metadata": {},
   "outputs": [],
   "source": [
    "from datetime import datetime"
   ]
  },
  {
   "cell_type": "code",
   "execution_count": 12,
   "metadata": {},
   "outputs": [
    {
     "data": {
      "text/plain": [
       "0    1/5/1998\n",
       "Name: Date of Closure, dtype: object"
      ]
     },
     "execution_count": 12,
     "metadata": {},
     "output_type": "execute_result"
    }
   ],
   "source": [
    "df['Date of Closure'].head(1)"
   ]
  },
  {
   "cell_type": "code",
   "execution_count": 13,
   "metadata": {},
   "outputs": [
    {
     "data": {
      "text/plain": [
       "datetime.datetime(1998, 1, 5, 0, 0)"
      ]
     },
     "execution_count": 13,
     "metadata": {},
     "output_type": "execute_result"
    }
   ],
   "source": [
    "datetime.strptime('1/5/1998', '%m/%d/%Y') # Parses into year, month, day"
   ]
  },
  {
   "cell_type": "code",
   "execution_count": 14,
   "metadata": {},
   "outputs": [],
   "source": [
    "def date_cleaner(date):\n",
    "    dt = datetime.strptime(date, '%m/%d/%Y')\n",
    "    return dt"
   ]
  },
  {
   "cell_type": "code",
   "execution_count": 15,
   "metadata": {},
   "outputs": [],
   "source": [
    "def date_cleaner_v2(date):\n",
    "    dt = datetime.strptime(date, '%m/%d/%Y : %H:%M:%S')\n",
    "    return dt"
   ]
  },
  {
   "cell_type": "code",
   "execution_count": 16,
   "metadata": {},
   "outputs": [
    {
     "data": {
      "text/plain": [
       "datetime.datetime(1998, 1, 5, 15, 20, 4)"
      ]
     },
     "execution_count": 16,
     "metadata": {},
     "output_type": "execute_result"
    }
   ],
   "source": [
    "date_cleaner_v2('1/5/1998 : 15:20:04')"
   ]
  },
  {
   "cell_type": "code",
   "execution_count": 17,
   "metadata": {},
   "outputs": [],
   "source": [
    "df['Date of Complaint Clean'] = df['Date of Complaint'].apply(date_cleaner)"
   ]
  },
  {
   "cell_type": "code",
   "execution_count": 18,
   "metadata": {},
   "outputs": [
    {
     "data": {
      "text/plain": [
       "0   1998-01-01\n",
       "1   1998-01-03\n",
       "2   1998-01-03\n",
       "3   1998-01-06\n",
       "4   1998-01-06\n",
       "Name: Date of Complaint Clean, dtype: datetime64[ns]"
      ]
     },
     "execution_count": 18,
     "metadata": {},
     "output_type": "execute_result"
    }
   ],
   "source": [
    "df['Date of Complaint Clean'].head()"
   ]
  },
  {
   "cell_type": "markdown",
   "metadata": {},
   "source": [
    "**Problem:** Some complaints are still open, so we need to account for that."
   ]
  },
  {
   "cell_type": "code",
   "execution_count": 19,
   "metadata": {},
   "outputs": [
    {
     "data": {
      "text/plain": [
       "False"
      ]
     },
     "execution_count": 19,
     "metadata": {},
     "output_type": "execute_result"
    }
   ],
   "source": [
    "pd.isna('I am not NaN')"
   ]
  },
  {
   "cell_type": "code",
   "execution_count": 37,
   "metadata": {},
   "outputs": [],
   "source": [
    "def date_cleaner_closure(date):\n",
    "    if str(date).split('/')[-1] == '9999':\n",
    "        date = datetime.now().strftime('%m/%d/%Y') \n",
    "    if pd.isna(date) | pd.isnull(date):\n",
    "        #date = '9/23/2019' # hard-coded date\n",
    "        date = datetime.now().strftime('%m/%d/%Y') # This returns correct date & format\n",
    "    dt = datetime.strptime(date, '%m/%d/%Y')\n",
    "    return pd.to_datetime(dt) # force to get rid of 00:00:00"
   ]
  },
  {
   "cell_type": "code",
   "execution_count": 40,
   "metadata": {},
   "outputs": [
    {
     "data": {
      "text/plain": [
       "0    1/5/1998\n",
       "Name: Date of Closure, dtype: object"
      ]
     },
     "execution_count": 40,
     "metadata": {},
     "output_type": "execute_result"
    }
   ],
   "source": [
    "df['Date of Closure'].head(1)"
   ]
  },
  {
   "cell_type": "code",
   "execution_count": 38,
   "metadata": {},
   "outputs": [],
   "source": [
    "df['Date of Closure Clean'] = df['Date of Closure'].apply(date_cleaner_closure)"
   ]
  },
  {
   "cell_type": "code",
   "execution_count": 31,
   "metadata": {},
   "outputs": [],
   "source": [
    "df['Date of Closure Clean v2'] = pd.to_datetime(df['Date of Closure Clean'])"
   ]
  },
  {
   "cell_type": "code",
   "execution_count": 33,
   "metadata": {},
   "outputs": [],
   "source": [
    "df['Time to Completion'] = df['Date of Closure Clean v2']-df['Date of Complaint Clean']"
   ]
  },
  {
   "cell_type": "code",
   "execution_count": 34,
   "metadata": {},
   "outputs": [],
   "source": [
    "df['Time to Completion (days)'] = df['Time to Completion'].apply(lambda dt: dt.days)"
   ]
  },
  {
   "cell_type": "code",
   "execution_count": 36,
   "metadata": {},
   "outputs": [
    {
     "data": {
      "text/plain": [
       "<matplotlib.axes._subplots.AxesSubplot at 0x24706c640c8>"
      ]
     },
     "execution_count": 36,
     "metadata": {},
     "output_type": "execute_result"
    },
    {
     "data": {
      "image/png": "[encoded data removed]",
      "text/plain": [
       "<Figure size 432x288 with 1 Axes>"
      ]
     },
     "metadata": {
      "needs_background": "light"
     },
     "output_type": "display_data"
    }
   ],
   "source": [
    "df['Time to Completion (days)'].hist()"
   ]
  },
  {
   "cell_type": "code",
   "execution_count": 46,
   "metadata": {},
   "outputs": [],
   "source": [
    "df.drop(columns='Date of Closure Clean v2', inplace=True)"
   ]
  },
  {
   "cell_type": "code",
   "execution_count": 47,
   "metadata": {},
   "outputs": [
    {
     "data": {
      "text/plain": [
       "Index(['Date of Complaint', 'Date of Closure', 'Street', 'City', 'State',\n",
       "       'ZIP', 'Cable Provider', 'Billing', 'Service', 'Internet',\n",
       "       'Telephone Answering Time', 'Reception', 'Construction', 'Marketing',\n",
       "       'Installation', 'Cable Service Availability', 'Cable Line Related',\n",
       "       'Telephone Service', 'Other', 'Type', 'Location', 'City Clean',\n",
       "       'Date of Complaint Clean', 'Date of Closure Clean',\n",
       "       'Time to Completion', 'Time to Completion (days)'],\n",
       "      dtype='object')"
      ]
     },
     "execution_count": 47,
     "metadata": {},
     "output_type": "execute_result"
    }
   ],
   "source": [
    "df.columns"
   ]
  },
  {
   "cell_type": "code",
   "execution_count": 48,
   "metadata": {},
   "outputs": [
    {
     "data": {
      "text/html": [
       "<div>\n",
       "<style scoped>\n",
       "    .dataframe tbody tr th:only-of-type {\n",
       "        vertical-align: middle;\n",
       "    }\n",
       "\n",
       "    .dataframe tbody tr th {\n",
       "        vertical-align: top;\n",
       "    }\n",
       "\n",
       "    .dataframe thead th {\n",
       "        text-align: right;\n",
       "    }\n",
       "</style>\n",
       "<table border=\"1\" class=\"dataframe\">\n",
       "  <thead>\n",
       "    <tr style=\"text-align: right;\">\n",
       "      <th></th>\n",
       "      <th>Date of Complaint</th>\n",
       "      <th>Date of Closure</th>\n",
       "      <th>Street</th>\n",
       "      <th>City</th>\n",
       "      <th>State</th>\n",
       "      <th>ZIP</th>\n",
       "      <th>Cable Provider</th>\n",
       "      <th>Billing</th>\n",
       "      <th>Service</th>\n",
       "      <th>Internet</th>\n",
       "      <th>...</th>\n",
       "      <th>Cable Line Related</th>\n",
       "      <th>Telephone Service</th>\n",
       "      <th>Other</th>\n",
       "      <th>Type</th>\n",
       "      <th>Location</th>\n",
       "      <th>City Clean</th>\n",
       "      <th>Date of Complaint Clean</th>\n",
       "      <th>Date of Closure Clean</th>\n",
       "      <th>Time to Completion</th>\n",
       "      <th>Time to Completion (days)</th>\n",
       "    </tr>\n",
       "  </thead>\n",
       "  <tbody>\n",
       "    <tr>\n",
       "      <td>0</td>\n",
       "      <td>1/1/1998</td>\n",
       "      <td>1/5/1998</td>\n",
       "      <td>null Avenue</td>\n",
       "      <td>Gaithersburg</td>\n",
       "      <td>MD</td>\n",
       "      <td>20878.0</td>\n",
       "      <td>Comcast</td>\n",
       "      <td>NaN</td>\n",
       "      <td>NaN</td>\n",
       "      <td>NaN</td>\n",
       "      <td>...</td>\n",
       "      <td>NaN</td>\n",
       "      <td>NaN</td>\n",
       "      <td>NaN</td>\n",
       "      <td>Complaint</td>\n",
       "      <td>null Avenue\\nGaithersburg, MD 20878</td>\n",
       "      <td>Gaithersburg</td>\n",
       "      <td>1998-01-01</td>\n",
       "      <td>1998-01-05</td>\n",
       "      <td>4 days</td>\n",
       "      <td>4</td>\n",
       "    </tr>\n",
       "    <tr>\n",
       "      <td>1</td>\n",
       "      <td>1/3/1998</td>\n",
       "      <td>12/31/2000</td>\n",
       "      <td>SAFFRON LANE</td>\n",
       "      <td>SILVER SPRING</td>\n",
       "      <td>MD</td>\n",
       "      <td>20901.0</td>\n",
       "      <td>Cable/TV Montgomery</td>\n",
       "      <td>1.0</td>\n",
       "      <td>NaN</td>\n",
       "      <td>NaN</td>\n",
       "      <td>...</td>\n",
       "      <td>NaN</td>\n",
       "      <td>NaN</td>\n",
       "      <td>NaN</td>\n",
       "      <td>Complaint</td>\n",
       "      <td>SAFFRON LANE\\nSILVER SPRING, MD 20901</td>\n",
       "      <td>Silver spring</td>\n",
       "      <td>1998-01-03</td>\n",
       "      <td>2000-12-31</td>\n",
       "      <td>1093 days</td>\n",
       "      <td>1093</td>\n",
       "    </tr>\n",
       "    <tr>\n",
       "      <td>2</td>\n",
       "      <td>1/3/1998</td>\n",
       "      <td>12/31/2000</td>\n",
       "      <td>DRURY RD</td>\n",
       "      <td>SILVER SPRING</td>\n",
       "      <td>MD</td>\n",
       "      <td>20906.0</td>\n",
       "      <td>Comcast</td>\n",
       "      <td>NaN</td>\n",
       "      <td>NaN</td>\n",
       "      <td>NaN</td>\n",
       "      <td>...</td>\n",
       "      <td>NaN</td>\n",
       "      <td>NaN</td>\n",
       "      <td>NaN</td>\n",
       "      <td>Complaint</td>\n",
       "      <td>DRURY RD\\nSILVER SPRING, MD 20906</td>\n",
       "      <td>Silver spring</td>\n",
       "      <td>1998-01-03</td>\n",
       "      <td>2000-12-31</td>\n",
       "      <td>1093 days</td>\n",
       "      <td>1093</td>\n",
       "    </tr>\n",
       "    <tr>\n",
       "      <td>3</td>\n",
       "      <td>1/6/1998</td>\n",
       "      <td>12/31/2000</td>\n",
       "      <td>WOODMONT AVE., #401</td>\n",
       "      <td>BETHESDA</td>\n",
       "      <td>MD</td>\n",
       "      <td>20814.0</td>\n",
       "      <td>Cable/TV Montgomery</td>\n",
       "      <td>NaN</td>\n",
       "      <td>NaN</td>\n",
       "      <td>NaN</td>\n",
       "      <td>...</td>\n",
       "      <td>NaN</td>\n",
       "      <td>NaN</td>\n",
       "      <td>NaN</td>\n",
       "      <td>Complaint</td>\n",
       "      <td>WOODMONT AVE., #401\\nBETHESDA, MD 20814</td>\n",
       "      <td>Bethesda</td>\n",
       "      <td>1998-01-06</td>\n",
       "      <td>2000-12-31</td>\n",
       "      <td>1090 days</td>\n",
       "      <td>1090</td>\n",
       "    </tr>\n",
       "    <tr>\n",
       "      <td>4</td>\n",
       "      <td>1/6/1998</td>\n",
       "      <td>12/31/2000</td>\n",
       "      <td>EAST WEST HWY, #616</td>\n",
       "      <td>SILVER SPRING</td>\n",
       "      <td>MD</td>\n",
       "      <td>20910.0</td>\n",
       "      <td>Cable/TV Montgomery</td>\n",
       "      <td>1.0</td>\n",
       "      <td>1.0</td>\n",
       "      <td>NaN</td>\n",
       "      <td>...</td>\n",
       "      <td>NaN</td>\n",
       "      <td>NaN</td>\n",
       "      <td>NaN</td>\n",
       "      <td>Complaint</td>\n",
       "      <td>EAST WEST HWY, #616\\nSILVER SPRING, MD 20910</td>\n",
       "      <td>Silver spring</td>\n",
       "      <td>1998-01-06</td>\n",
       "      <td>2000-12-31</td>\n",
       "      <td>1090 days</td>\n",
       "      <td>1090</td>\n",
       "    </tr>\n",
       "  </tbody>\n",
       "</table>\n",
       "<p>5 rows × 26 columns</p>\n",
       "</div>"
      ],
      "text/plain": [
       "  Date of Complaint Date of Closure               Street           City State  \\\n",
       "0          1/1/1998        1/5/1998          null Avenue   Gaithersburg    MD   \n",
       "1          1/3/1998      12/31/2000         SAFFRON LANE  SILVER SPRING    MD   \n",
       "2          1/3/1998      12/31/2000             DRURY RD  SILVER SPRING    MD   \n",
       "3          1/6/1998      12/31/2000  WOODMONT AVE., #401       BETHESDA    MD   \n",
       "4          1/6/1998      12/31/2000  EAST WEST HWY, #616  SILVER SPRING    MD   \n",
       "\n",
       "       ZIP       Cable Provider  Billing  Service  Internet  ...  \\\n",
       "0  20878.0              Comcast      NaN      NaN       NaN  ...   \n",
       "1  20901.0  Cable/TV Montgomery      1.0      NaN       NaN  ...   \n",
       "2  20906.0              Comcast      NaN      NaN       NaN  ...   \n",
       "3  20814.0  Cable/TV Montgomery      NaN      NaN       NaN  ...   \n",
       "4  20910.0  Cable/TV Montgomery      1.0      1.0       NaN  ...   \n",
       "\n",
       "   Cable Line Related  Telephone Service  Other       Type  \\\n",
       "0                 NaN                NaN    NaN  Complaint   \n",
       "1                 NaN                NaN    NaN  Complaint   \n",
       "2                 NaN                NaN    NaN  Complaint   \n",
       "3                 NaN                NaN    NaN  Complaint   \n",
       "4                 NaN                NaN    NaN  Complaint   \n",
       "\n",
       "                                       Location     City Clean  \\\n",
       "0           null Avenue\\nGaithersburg, MD 20878   Gaithersburg   \n",
       "1         SAFFRON LANE\\nSILVER SPRING, MD 20901  Silver spring   \n",
       "2             DRURY RD\\nSILVER SPRING, MD 20906  Silver spring   \n",
       "3       WOODMONT AVE., #401\\nBETHESDA, MD 20814       Bethesda   \n",
       "4  EAST WEST HWY, #616\\nSILVER SPRING, MD 20910  Silver spring   \n",
       "\n",
       "   Date of Complaint Clean  Date of Closure Clean  Time to Completion  \\\n",
       "0               1998-01-01             1998-01-05              4 days   \n",
       "1               1998-01-03             2000-12-31           1093 days   \n",
       "2               1998-01-03             2000-12-31           1093 days   \n",
       "3               1998-01-06             2000-12-31           1090 days   \n",
       "4               1998-01-06             2000-12-31           1090 days   \n",
       "\n",
       "  Time to Completion (days)  \n",
       "0                         4  \n",
       "1                      1093  \n",
       "2                      1093  \n",
       "3                      1090  \n",
       "4                      1090  \n",
       "\n",
       "[5 rows x 26 columns]"
      ]
     },
     "execution_count": 48,
     "metadata": {},
     "output_type": "execute_result"
    }
   ],
   "source": [
    "df.head()"
   ]
  },
  {
   "cell_type": "code",
   "execution_count": 49,
   "metadata": {},
   "outputs": [
    {
     "name": "stdout",
     "output_type": "stream",
     "text": [
      "<class 'pandas.core.frame.DataFrame'>\n",
      "RangeIndex: 23969 entries, 0 to 23968\n",
      "Data columns (total 26 columns):\n",
      "Date of Complaint             23969 non-null object\n",
      "Date of Closure               23959 non-null object\n",
      "Street                        23759 non-null object\n",
      "City                          23738 non-null object\n",
      "State                         23960 non-null object\n",
      "ZIP                           23529 non-null float64\n",
      "Cable Provider                23968 non-null object\n",
      "Billing                       9062 non-null float64\n",
      "Service                       6124 non-null float64\n",
      "Internet                      4423 non-null float64\n",
      "Telephone Answering Time      2267 non-null float64\n",
      "Reception                     5703 non-null float64\n",
      "Construction                  1359 non-null float64\n",
      "Marketing                     1172 non-null float64\n",
      "Installation                  1201 non-null float64\n",
      "Cable Service Availability    254 non-null float64\n",
      "Cable Line Related            2341 non-null float64\n",
      "Telephone Service             1020 non-null float64\n",
      "Other                         1477 non-null float64\n",
      "Type                          23969 non-null object\n",
      "Location                      23969 non-null object\n",
      "City Clean                    23969 non-null object\n",
      "Date of Complaint Clean       23969 non-null datetime64[ns]\n",
      "Date of Closure Clean         23969 non-null datetime64[ns]\n",
      "Time to Completion            23969 non-null timedelta64[ns]\n",
      "Time to Completion (days)     23969 non-null int64\n",
      "dtypes: datetime64[ns](2), float64(13), int64(1), object(9), timedelta64[ns](1)\n",
      "memory usage: 4.8+ MB\n"
     ]
    }
   ],
   "source": [
    "df.info()"
   ]
  },
  {
   "cell_type": "code",
   "execution_count": 53,
   "metadata": {},
   "outputs": [],
   "source": [
    "df['Telephone Answering Time'].fillna(0, inplace=True)"
   ]
  },
  {
   "cell_type": "code",
   "execution_count": 54,
   "metadata": {},
   "outputs": [
    {
     "data": {
      "text/plain": [
       "array([0., 1.])"
      ]
     },
     "execution_count": 54,
     "metadata": {},
     "output_type": "execute_result"
    }
   ],
   "source": [
    "df['Telephone Answering Time'].unique()"
   ]
  },
  {
   "cell_type": "code",
   "execution_count": null,
   "metadata": {},
   "outputs": [],
   "source": []
  }
 ],
 "metadata": {
  "kernelspec": {
   "display_name": "Python 3",
   "language": "python",
   "name": "python3"
  },
  "language_info": {
   "codemirror_mode": {
    "name": "ipython",
    "version": 3
   },
   "file_extension": ".py",
   "mimetype": "text/x-python",
   "name": "python",
   "nbconvert_exporter": "python",
   "pygments_lexer": "ipython3",
   "version": "3.7.4"
  }
 },
 "nbformat": 4,
 "nbformat_minor": 2
}

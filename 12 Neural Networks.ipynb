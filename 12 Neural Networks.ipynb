{
 "cells": [
  {
   "cell_type": "code",
   "execution_count": 1,
   "metadata": {},
   "outputs": [],
   "source": [
    "import pandas as pd\n",
    "import matplotlib.pyplot as plt\n",
    "%matplotlib inline"
   ]
  },
  {
   "cell_type": "code",
   "execution_count": 2,
   "metadata": {},
   "outputs": [],
   "source": [
    "df = pd.read_csv('./src/network.csv')"
   ]
  },
  {
   "cell_type": "markdown",
   "metadata": {},
   "source": [
    "## Neural network for classification"
   ]
  },
  {
   "cell_type": "code",
   "execution_count": 3,
   "metadata": {},
   "outputs": [
    {
     "data": {
      "text/html": [
       "<div>\n",
       "<style scoped>\n",
       "    .dataframe tbody tr th:only-of-type {\n",
       "        vertical-align: middle;\n",
       "    }\n",
       "\n",
       "    .dataframe tbody tr th {\n",
       "        vertical-align: top;\n",
       "    }\n",
       "\n",
       "    .dataframe thead th {\n",
       "        text-align: right;\n",
       "    }\n",
       "</style>\n",
       "<table border=\"1\" class=\"dataframe\">\n",
       "  <thead>\n",
       "    <tr style=\"text-align: right;\">\n",
       "      <th></th>\n",
       "      <th>LNCEL name</th>\n",
       "      <th>PERIOD_START_TIME</th>\n",
       "      <th>E-RAB Stp Att, QCI2</th>\n",
       "      <th>E-RAB Stp Att, QCI3</th>\n",
       "      <th>E-RAB Stp Att, QCI4</th>\n",
       "      <th>Add E-RAB Stp Att</th>\n",
       "      <th>E-RAB Stp Att, QCI1</th>\n",
       "      <th>Avg act UEs DL DRBs QCI1</th>\n",
       "      <th>Avg act UEs UL DRBs QCI1</th>\n",
       "      <th>Max Act UEs per cell DL</th>\n",
       "      <th>...</th>\n",
       "      <th>Max nr active UEs per cell</th>\n",
       "      <th>Max nr RRC conn UEs per cell</th>\n",
       "      <th>Avg Nr UEs UL intra-eNB CoMP</th>\n",
       "      <th>Avg CA capab UEs DL</th>\n",
       "      <th>Avg CA cap UEs for 3CCs DL</th>\n",
       "      <th>Avg UEs active SCell DL</th>\n",
       "      <th>Avg UEs activ 2 SCell DL</th>\n",
       "      <th>Avg Latency Uplink</th>\n",
       "      <th>Amount of active cells</th>\n",
       "      <th>target</th>\n",
       "    </tr>\n",
       "  </thead>\n",
       "  <tbody>\n",
       "    <tr>\n",
       "      <td>0</td>\n",
       "      <td>WO09sL6</td>\n",
       "      <td>06.21.2019 22:00:00</td>\n",
       "      <td>0</td>\n",
       "      <td>0</td>\n",
       "      <td>0</td>\n",
       "      <td>0</td>\n",
       "      <td>0</td>\n",
       "      <td>0.00</td>\n",
       "      <td>0.0</td>\n",
       "      <td>2</td>\n",
       "      <td>...</td>\n",
       "      <td>7</td>\n",
       "      <td>7</td>\n",
       "      <td>0.0</td>\n",
       "      <td>1.11</td>\n",
       "      <td>0.92</td>\n",
       "      <td>0.0</td>\n",
       "      <td>0.0</td>\n",
       "      <td>0.0</td>\n",
       "      <td>1</td>\n",
       "      <td>0</td>\n",
       "    </tr>\n",
       "    <tr>\n",
       "      <td>1</td>\n",
       "      <td>WO09sL6</td>\n",
       "      <td>06.22.2019 01:00:00</td>\n",
       "      <td>0</td>\n",
       "      <td>0</td>\n",
       "      <td>0</td>\n",
       "      <td>0</td>\n",
       "      <td>0</td>\n",
       "      <td>0.11</td>\n",
       "      <td>0.0</td>\n",
       "      <td>2</td>\n",
       "      <td>...</td>\n",
       "      <td>5</td>\n",
       "      <td>5</td>\n",
       "      <td>0.0</td>\n",
       "      <td>0.68</td>\n",
       "      <td>0.39</td>\n",
       "      <td>0.0</td>\n",
       "      <td>0.0</td>\n",
       "      <td>0.0</td>\n",
       "      <td>1</td>\n",
       "      <td>0</td>\n",
       "    </tr>\n",
       "    <tr>\n",
       "      <td>2</td>\n",
       "      <td>WO09sL6</td>\n",
       "      <td>06.22.2019 02:00:00</td>\n",
       "      <td>0</td>\n",
       "      <td>0</td>\n",
       "      <td>0</td>\n",
       "      <td>0</td>\n",
       "      <td>0</td>\n",
       "      <td>0.00</td>\n",
       "      <td>0.0</td>\n",
       "      <td>2</td>\n",
       "      <td>...</td>\n",
       "      <td>5</td>\n",
       "      <td>5</td>\n",
       "      <td>0.0</td>\n",
       "      <td>0.52</td>\n",
       "      <td>0.36</td>\n",
       "      <td>0.0</td>\n",
       "      <td>0.0</td>\n",
       "      <td>0.0</td>\n",
       "      <td>1</td>\n",
       "      <td>0</td>\n",
       "    </tr>\n",
       "    <tr>\n",
       "      <td>3</td>\n",
       "      <td>WO09sL6</td>\n",
       "      <td>06.22.2019 03:00:00</td>\n",
       "      <td>0</td>\n",
       "      <td>0</td>\n",
       "      <td>0</td>\n",
       "      <td>0</td>\n",
       "      <td>0</td>\n",
       "      <td>0.00</td>\n",
       "      <td>0.0</td>\n",
       "      <td>2</td>\n",
       "      <td>...</td>\n",
       "      <td>5</td>\n",
       "      <td>5</td>\n",
       "      <td>0.0</td>\n",
       "      <td>0.54</td>\n",
       "      <td>0.46</td>\n",
       "      <td>0.0</td>\n",
       "      <td>0.0</td>\n",
       "      <td>0.0</td>\n",
       "      <td>1</td>\n",
       "      <td>0</td>\n",
       "    </tr>\n",
       "    <tr>\n",
       "      <td>4</td>\n",
       "      <td>WO09sL6</td>\n",
       "      <td>06.22.2019 04:00:00</td>\n",
       "      <td>0</td>\n",
       "      <td>0</td>\n",
       "      <td>0</td>\n",
       "      <td>0</td>\n",
       "      <td>0</td>\n",
       "      <td>0.00</td>\n",
       "      <td>0.0</td>\n",
       "      <td>2</td>\n",
       "      <td>...</td>\n",
       "      <td>4</td>\n",
       "      <td>4</td>\n",
       "      <td>0.0</td>\n",
       "      <td>0.44</td>\n",
       "      <td>0.35</td>\n",
       "      <td>0.0</td>\n",
       "      <td>0.0</td>\n",
       "      <td>0.0</td>\n",
       "      <td>1</td>\n",
       "      <td>0</td>\n",
       "    </tr>\n",
       "  </tbody>\n",
       "</table>\n",
       "<p>5 rows × 21 columns</p>\n",
       "</div>"
      ],
      "text/plain": [
       "  LNCEL name    PERIOD_START_TIME  E-RAB Stp Att, QCI2  E-RAB Stp Att, QCI3  \\\n",
       "0    WO09sL6  06.21.2019 22:00:00                    0                    0   \n",
       "1    WO09sL6  06.22.2019 01:00:00                    0                    0   \n",
       "2    WO09sL6  06.22.2019 02:00:00                    0                    0   \n",
       "3    WO09sL6  06.22.2019 03:00:00                    0                    0   \n",
       "4    WO09sL6  06.22.2019 04:00:00                    0                    0   \n",
       "\n",
       "   E-RAB Stp Att, QCI4  Add E-RAB Stp Att  E-RAB Stp Att, QCI1  \\\n",
       "0                    0                  0                    0   \n",
       "1                    0                  0                    0   \n",
       "2                    0                  0                    0   \n",
       "3                    0                  0                    0   \n",
       "4                    0                  0                    0   \n",
       "\n",
       "   Avg act UEs DL DRBs QCI1  Avg act UEs UL DRBs QCI1  \\\n",
       "0                      0.00                       0.0   \n",
       "1                      0.11                       0.0   \n",
       "2                      0.00                       0.0   \n",
       "3                      0.00                       0.0   \n",
       "4                      0.00                       0.0   \n",
       "\n",
       "   Max Act UEs per cell DL  ...  Max nr active UEs per cell  \\\n",
       "0                        2  ...                           7   \n",
       "1                        2  ...                           5   \n",
       "2                        2  ...                           5   \n",
       "3                        2  ...                           5   \n",
       "4                        2  ...                           4   \n",
       "\n",
       "   Max nr RRC conn UEs per cell  Avg Nr UEs UL intra-eNB CoMP  \\\n",
       "0                             7                           0.0   \n",
       "1                             5                           0.0   \n",
       "2                             5                           0.0   \n",
       "3                             5                           0.0   \n",
       "4                             4                           0.0   \n",
       "\n",
       "   Avg CA capab UEs DL  Avg CA cap UEs for 3CCs DL  Avg UEs active SCell DL  \\\n",
       "0                 1.11                        0.92                      0.0   \n",
       "1                 0.68                        0.39                      0.0   \n",
       "2                 0.52                        0.36                      0.0   \n",
       "3                 0.54                        0.46                      0.0   \n",
       "4                 0.44                        0.35                      0.0   \n",
       "\n",
       "   Avg UEs activ 2 SCell DL  Avg Latency Uplink  Amount of active cells  \\\n",
       "0                       0.0                 0.0                       1   \n",
       "1                       0.0                 0.0                       1   \n",
       "2                       0.0                 0.0                       1   \n",
       "3                       0.0                 0.0                       1   \n",
       "4                       0.0                 0.0                       1   \n",
       "\n",
       "   target  \n",
       "0       0  \n",
       "1       0  \n",
       "2       0  \n",
       "3       0  \n",
       "4       0  \n",
       "\n",
       "[5 rows x 21 columns]"
      ]
     },
     "execution_count": 3,
     "metadata": {},
     "output_type": "execute_result"
    }
   ],
   "source": [
    "df.head()"
   ]
  },
  {
   "cell_type": "code",
   "execution_count": 4,
   "metadata": {},
   "outputs": [],
   "source": [
    "X=df.iloc[:,4:-1] #exclude last column + zeros columns + name/timestamp"
   ]
  },
  {
   "cell_type": "code",
   "execution_count": 5,
   "metadata": {},
   "outputs": [],
   "source": [
    "y = df['target']"
   ]
  },
  {
   "cell_type": "code",
   "execution_count": 6,
   "metadata": {},
   "outputs": [],
   "source": [
    "from sklearn.model_selection import train_test_split\n",
    "X_train, X_test, y_train, y_test = train_test_split(X,y, random_state=42, train_size=0.8)"
   ]
  },
  {
   "cell_type": "code",
   "execution_count": 7,
   "metadata": {},
   "outputs": [],
   "source": [
    "from sklearn.neural_network import MLPClassifier # MLP = Multi-Layer-Perceptron"
   ]
  },
  {
   "cell_type": "code",
   "execution_count": 8,
   "metadata": {},
   "outputs": [],
   "source": [
    "nn = MLPClassifier(hidden_layer_sizes=(3,3), random_state=123)"
   ]
  },
  {
   "cell_type": "code",
   "execution_count": 9,
   "metadata": {},
   "outputs": [
    {
     "name": "stderr",
     "output_type": "stream",
     "text": [
      "C:\\Users\\HP\\Anaconda3\\envs\\a1\\lib\\site-packages\\sklearn\\neural_network\\multilayer_perceptron.py:566: ConvergenceWarning: Stochastic Optimizer: Maximum iterations (200) reached and the optimization hasn't converged yet.\n",
      "  % self.max_iter, ConvergenceWarning)\n"
     ]
    },
    {
     "data": {
      "text/plain": [
       "MLPClassifier(activation='relu', alpha=0.0001, batch_size='auto', beta_1=0.9,\n",
       "              beta_2=0.999, early_stopping=False, epsilon=1e-08,\n",
       "              hidden_layer_sizes=(3, 3), learning_rate='constant',\n",
       "              learning_rate_init=0.001, max_iter=200, momentum=0.9,\n",
       "              n_iter_no_change=10, nesterovs_momentum=True, power_t=0.5,\n",
       "              random_state=123, shuffle=True, solver='adam', tol=0.0001,\n",
       "              validation_fraction=0.1, verbose=False, warm_start=False)"
      ]
     },
     "execution_count": 9,
     "metadata": {},
     "output_type": "execute_result"
    }
   ],
   "source": [
    "nn.fit(X_train, y_train)"
   ]
  },
  {
   "cell_type": "markdown",
   "metadata": {},
   "source": [
    "### Learning curve"
   ]
  },
  {
   "cell_type": "code",
   "execution_count": 10,
   "metadata": {},
   "outputs": [
    {
     "name": "stderr",
     "output_type": "stream",
     "text": [
      "C:\\Users\\HP\\Anaconda3\\envs\\a1\\lib\\site-packages\\sklearn\\model_selection\\_split.py:1978: FutureWarning: The default value of cv will change from 3 to 5 in version 0.22. Specify it explicitly to silence this warning.\n",
      "  warnings.warn(CV_WARNING, FutureWarning)\n",
      "C:\\Users\\HP\\Anaconda3\\envs\\a1\\lib\\site-packages\\sklearn\\neural_network\\multilayer_perceptron.py:566: ConvergenceWarning: Stochastic Optimizer: Maximum iterations (200) reached and the optimization hasn't converged yet.\n",
      "  % self.max_iter, ConvergenceWarning)\n",
      "C:\\Users\\HP\\Anaconda3\\envs\\a1\\lib\\site-packages\\sklearn\\neural_network\\multilayer_perceptron.py:566: ConvergenceWarning: Stochastic Optimizer: Maximum iterations (200) reached and the optimization hasn't converged yet.\n",
      "  % self.max_iter, ConvergenceWarning)\n",
      "C:\\Users\\HP\\Anaconda3\\envs\\a1\\lib\\site-packages\\sklearn\\neural_network\\multilayer_perceptron.py:566: ConvergenceWarning: Stochastic Optimizer: Maximum iterations (200) reached and the optimization hasn't converged yet.\n",
      "  % self.max_iter, ConvergenceWarning)\n",
      "C:\\Users\\HP\\Anaconda3\\envs\\a1\\lib\\site-packages\\sklearn\\neural_network\\multilayer_perceptron.py:566: ConvergenceWarning: Stochastic Optimizer: Maximum iterations (200) reached and the optimization hasn't converged yet.\n",
      "  % self.max_iter, ConvergenceWarning)\n",
      "C:\\Users\\HP\\Anaconda3\\envs\\a1\\lib\\site-packages\\sklearn\\neural_network\\multilayer_perceptron.py:566: ConvergenceWarning: Stochastic Optimizer: Maximum iterations (200) reached and the optimization hasn't converged yet.\n",
      "  % self.max_iter, ConvergenceWarning)\n",
      "C:\\Users\\HP\\Anaconda3\\envs\\a1\\lib\\site-packages\\sklearn\\neural_network\\multilayer_perceptron.py:566: ConvergenceWarning: Stochastic Optimizer: Maximum iterations (200) reached and the optimization hasn't converged yet.\n",
      "  % self.max_iter, ConvergenceWarning)\n",
      "C:\\Users\\HP\\Anaconda3\\envs\\a1\\lib\\site-packages\\sklearn\\neural_network\\multilayer_perceptron.py:566: ConvergenceWarning: Stochastic Optimizer: Maximum iterations (200) reached and the optimization hasn't converged yet.\n",
      "  % self.max_iter, ConvergenceWarning)\n",
      "C:\\Users\\HP\\Anaconda3\\envs\\a1\\lib\\site-packages\\sklearn\\neural_network\\multilayer_perceptron.py:566: ConvergenceWarning: Stochastic Optimizer: Maximum iterations (200) reached and the optimization hasn't converged yet.\n",
      "  % self.max_iter, ConvergenceWarning)\n",
      "C:\\Users\\HP\\Anaconda3\\envs\\a1\\lib\\site-packages\\sklearn\\neural_network\\multilayer_perceptron.py:566: ConvergenceWarning: Stochastic Optimizer: Maximum iterations (200) reached and the optimization hasn't converged yet.\n",
      "  % self.max_iter, ConvergenceWarning)\n",
      "C:\\Users\\HP\\Anaconda3\\envs\\a1\\lib\\site-packages\\sklearn\\neural_network\\multilayer_perceptron.py:566: ConvergenceWarning: Stochastic Optimizer: Maximum iterations (200) reached and the optimization hasn't converged yet.\n",
      "  % self.max_iter, ConvergenceWarning)\n",
      "C:\\Users\\HP\\Anaconda3\\envs\\a1\\lib\\site-packages\\sklearn\\neural_network\\multilayer_perceptron.py:566: ConvergenceWarning: Stochastic Optimizer: Maximum iterations (200) reached and the optimization hasn't converged yet.\n",
      "  % self.max_iter, ConvergenceWarning)\n",
      "C:\\Users\\HP\\Anaconda3\\envs\\a1\\lib\\site-packages\\sklearn\\neural_network\\multilayer_perceptron.py:566: ConvergenceWarning: Stochastic Optimizer: Maximum iterations (200) reached and the optimization hasn't converged yet.\n",
      "  % self.max_iter, ConvergenceWarning)\n",
      "C:\\Users\\HP\\Anaconda3\\envs\\a1\\lib\\site-packages\\sklearn\\neural_network\\multilayer_perceptron.py:566: ConvergenceWarning: Stochastic Optimizer: Maximum iterations (200) reached and the optimization hasn't converged yet.\n",
      "  % self.max_iter, ConvergenceWarning)\n",
      "C:\\Users\\HP\\Anaconda3\\envs\\a1\\lib\\site-packages\\sklearn\\neural_network\\multilayer_perceptron.py:566: ConvergenceWarning: Stochastic Optimizer: Maximum iterations (200) reached and the optimization hasn't converged yet.\n",
      "  % self.max_iter, ConvergenceWarning)\n",
      "C:\\Users\\HP\\Anaconda3\\envs\\a1\\lib\\site-packages\\sklearn\\neural_network\\multilayer_perceptron.py:566: ConvergenceWarning: Stochastic Optimizer: Maximum iterations (200) reached and the optimization hasn't converged yet.\n",
      "  % self.max_iter, ConvergenceWarning)\n"
     ]
    }
   ],
   "source": [
    "from sklearn.model_selection import learning_curve\n",
    "train_sizes, train_scores, test_scores = learning_curve(nn, X_train, y_train)"
   ]
  },
  {
   "cell_type": "code",
   "execution_count": 11,
   "metadata": {},
   "outputs": [
    {
     "data": {
      "text/plain": [
       "array([ 75, 246, 417, 588, 759])"
      ]
     },
     "execution_count": 11,
     "metadata": {},
     "output_type": "execute_result"
    }
   ],
   "source": [
    "train_sizes"
   ]
  },
  {
   "cell_type": "code",
   "execution_count": 12,
   "metadata": {},
   "outputs": [
    {
     "data": {
      "text/plain": [
       "array([[1.        , 0.61333333, 0.61333333],\n",
       "       [0.91463415, 0.8495935 , 0.8495935 ],\n",
       "       [0.88489209, 0.86091127, 0.8705036 ],\n",
       "       [0.8622449 , 0.85884354, 0.87244898],\n",
       "       [0.85111989, 0.84848485, 0.85111989]])"
      ]
     },
     "execution_count": 12,
     "metadata": {},
     "output_type": "execute_result"
    }
   ],
   "source": [
    "train_scores"
   ]
  },
  {
   "cell_type": "code",
   "execution_count": 13,
   "metadata": {},
   "outputs": [
    {
     "data": {
      "text/plain": [
       "array([[0.84776903, 0.42631579, 0.48812665],\n",
       "       [0.84776903, 0.84736842, 0.84960422],\n",
       "       [0.84776903, 0.84736842, 0.84960422],\n",
       "       [0.84776903, 0.85      , 0.84960422],\n",
       "       [0.84776903, 0.85      , 0.85224274]])"
      ]
     },
     "execution_count": 13,
     "metadata": {},
     "output_type": "execute_result"
    }
   ],
   "source": [
    "test_scores"
   ]
  },
  {
   "cell_type": "code",
   "execution_count": 14,
   "metadata": {},
   "outputs": [],
   "source": [
    "import numpy as np"
   ]
  },
  {
   "cell_type": "code",
   "execution_count": 15,
   "metadata": {},
   "outputs": [],
   "source": [
    "train_scores_mean = np.mean(train_scores, axis=1)\n",
    "test_scores_mean = np.mean(test_scores, axis=1)"
   ]
  },
  {
   "cell_type": "code",
   "execution_count": 16,
   "metadata": {},
   "outputs": [
    {
     "data": {
      "text/plain": [
       "<matplotlib.legend.Legend at 0x2103f84e208>"
      ]
     },
     "execution_count": 16,
     "metadata": {},
     "output_type": "execute_result"
    },
    {
     "data": {
      "image/png": "[encoded data removed]",
      "text/plain": [
       "<Figure size 432x288 with 1 Axes>"
      ]
     },
     "metadata": {
      "needs_background": "light"
     },
     "output_type": "display_data"
    }
   ],
   "source": [
    "plt.plot(train_sizes, train_scores_mean, label='Train Score', color='r')\n",
    "plt.plot(train_sizes, test_scores_mean, label='Test Score', color='b')\n",
    "plt.xlabel('# of training samples')\n",
    "plt.ylabel('Model score')\n",
    "plt.legend(loc='best')"
   ]
  },
  {
   "cell_type": "code",
   "execution_count": 17,
   "metadata": {},
   "outputs": [
    {
     "data": {
      "text/plain": [
       "(1426, 16)"
      ]
     },
     "execution_count": 17,
     "metadata": {},
     "output_type": "execute_result"
    }
   ],
   "source": [
    "X.shape"
   ]
  },
  {
   "cell_type": "markdown",
   "metadata": {},
   "source": [
    "Works the same way as other algorithms in `sklearn`."
   ]
  },
  {
   "cell_type": "markdown",
   "metadata": {},
   "source": [
    "## Autoencoders"
   ]
  },
  {
   "cell_type": "code",
   "execution_count": 53,
   "metadata": {},
   "outputs": [],
   "source": [
    "df = pd.read_csv('./src/network_all_cells.zip')"
   ]
  },
  {
   "cell_type": "code",
   "execution_count": 54,
   "metadata": {},
   "outputs": [],
   "source": [
    "df.dropna(axis=0, inplace=True)"
   ]
  },
  {
   "cell_type": "code",
   "execution_count": 55,
   "metadata": {},
   "outputs": [
    {
     "data": {
      "text/plain": [
       "Index(['PERIOD_START_TIME', 'LNCEL name', 'RACH Stp Completion SR',\n",
       "       'Avg CA cap UEs for 3CCs DL', 'Max nr active UEs per cell'],\n",
       "      dtype='object')"
      ]
     },
     "execution_count": 55,
     "metadata": {},
     "output_type": "execute_result"
    }
   ],
   "source": [
    "df.columns"
   ]
  },
  {
   "cell_type": "code",
   "execution_count": 56,
   "metadata": {},
   "outputs": [],
   "source": [
    "X_new = df.pivot_table(index='LNCEL name', columns='PERIOD_START_TIME', values='RACH Stp Completion SR')"
   ]
  },
  {
   "cell_type": "code",
   "execution_count": 62,
   "metadata": {},
   "outputs": [],
   "source": [
    "X_new = X_new.dropna(axis=0)"
   ]
  },
  {
   "cell_type": "code",
   "execution_count": 63,
   "metadata": {},
   "outputs": [],
   "source": [
    "from sklearn.neural_network import MLPRegressor"
   ]
  },
  {
   "cell_type": "code",
   "execution_count": 64,
   "metadata": {},
   "outputs": [],
   "source": [
    "autoencoder = MLPRegressor(hidden_layer_sizes=(8,), random_state=42, max_iter=500)"
   ]
  },
  {
   "cell_type": "code",
   "execution_count": 65,
   "metadata": {},
   "outputs": [
    {
     "name": "stdout",
     "output_type": "stream",
     "text": [
      "<class 'pandas.core.frame.DataFrame'>\n",
      "Index: 32485 entries, 11830 to WOA1sL6\n",
      "Data columns (total 23 columns):\n",
      "06.21.2019 22:00:00    32485 non-null float64\n",
      "06.22.2019 01:00:00    32485 non-null float64\n",
      "06.22.2019 02:00:00    32485 non-null float64\n",
      "06.22.2019 03:00:00    32485 non-null float64\n",
      "06.22.2019 04:00:00    32485 non-null float64\n",
      "06.22.2019 05:00:00    32485 non-null float64\n",
      "06.22.2019 06:00:00    32485 non-null float64\n",
      "06.22.2019 07:00:00    32485 non-null float64\n",
      "06.22.2019 08:00:00    32485 non-null float64\n",
      "06.22.2019 09:00:00    32485 non-null float64\n",
      "06.22.2019 10:00:00    32485 non-null float64\n",
      "06.22.2019 11:00:00    32485 non-null float64\n",
      "06.22.2019 12:00:00    32485 non-null float64\n",
      "06.22.2019 13:00:00    32485 non-null float64\n",
      "06.22.2019 14:00:00    32485 non-null float64\n",
      "06.22.2019 15:00:00    32485 non-null float64\n",
      "06.22.2019 16:00:00    32485 non-null float64\n",
      "06.22.2019 17:00:00    32485 non-null float64\n",
      "06.22.2019 18:00:00    32485 non-null float64\n",
      "06.22.2019 19:00:00    32485 non-null float64\n",
      "06.22.2019 20:00:00    32485 non-null float64\n",
      "06.22.2019 21:00:00    32485 non-null float64\n",
      "06.22.2019 22:00:00    32485 non-null float64\n",
      "dtypes: float64(23)\n",
      "memory usage: 5.9+ MB\n"
     ]
    }
   ],
   "source": [
    "X_new.info()"
   ]
  },
  {
   "cell_type": "code",
   "execution_count": 66,
   "metadata": {},
   "outputs": [
    {
     "data": {
      "text/plain": [
       "MLPRegressor(activation='relu', alpha=0.0001, batch_size='auto', beta_1=0.9,\n",
       "             beta_2=0.999, early_stopping=False, epsilon=1e-08,\n",
       "             hidden_layer_sizes=(8,), learning_rate='constant',\n",
       "             learning_rate_init=0.001, max_iter=500, momentum=0.9,\n",
       "             n_iter_no_change=10, nesterovs_momentum=True, power_t=0.5,\n",
       "             random_state=42, shuffle=True, solver='adam', tol=0.0001,\n",
       "             validation_fraction=0.1, verbose=False, warm_start=False)"
      ]
     },
     "execution_count": 66,
     "metadata": {},
     "output_type": "execute_result"
    }
   ],
   "source": [
    "autoencoder.fit(X_new, X_new)"
   ]
  },
  {
   "cell_type": "code",
   "execution_count": 67,
   "metadata": {},
   "outputs": [
    {
     "name": "stderr",
     "output_type": "stream",
     "text": [
      "C:\\Users\\HP\\Anaconda3\\envs\\a1\\lib\\site-packages\\sklearn\\base.py:420: FutureWarning: The default value of multioutput (not exposed in score method) will change from 'variance_weighted' to 'uniform_average' in 0.23 to keep consistent with 'metrics.r2_score'. To specify the default value manually and avoid the warning, please either call 'metrics.r2_score' directly or make a custom scorer with 'metrics.make_scorer' (the built-in scorer 'r2' uses multioutput='uniform_average').\n",
      "  \"multioutput='uniform_average').\", FutureWarning)\n"
     ]
    },
    {
     "data": {
      "text/plain": [
       "0.642925433972406"
      ]
     },
     "execution_count": 67,
     "metadata": {},
     "output_type": "execute_result"
    }
   ],
   "source": [
    "autoencoder.score(X_new, X_new)"
   ]
  },
  {
   "cell_type": "code",
   "execution_count": 68,
   "metadata": {},
   "outputs": [],
   "source": [
    "X_r = autoencoder.predict(X_new)"
   ]
  },
  {
   "cell_type": "code",
   "execution_count": 69,
   "metadata": {},
   "outputs": [
    {
     "data": {
      "text/plain": [
       "array([ 98.68510945, 100.23740364, 100.19796973,  99.55885639,\n",
       "       100.19640801, 100.6074415 , 100.45121443,  98.74622165,\n",
       "       100.7773795 ,  98.93407658,  98.78279013,  94.1408984 ,\n",
       "        97.69581579,  98.1737556 ,  96.39707479,  98.20354875,\n",
       "        96.80665556,  99.03456982,  99.59871065,  98.86301083,\n",
       "        98.97399664,  96.69293061,  99.07353099])"
      ]
     },
     "execution_count": 69,
     "metadata": {},
     "output_type": "execute_result"
    }
   ],
   "source": [
    "X_r[0,:]"
   ]
  },
  {
   "cell_type": "code",
   "execution_count": 70,
   "metadata": {},
   "outputs": [
    {
     "data": {
      "text/plain": [
       "array([100.   , 100.   , 100.   , 100.   , 100.   , 100.   , 100.   ,\n",
       "       100.   , 100.   ,  98.885,  98.44 ,  93.725,  99.955,  99.455,\n",
       "        88.895,  99.98 , 100.   , 100.   ,  99.975, 100.   ,  95.795,\n",
       "        95.875, 100.   ])"
      ]
     },
     "execution_count": 70,
     "metadata": {},
     "output_type": "execute_result"
    }
   ],
   "source": [
    "X_new.iloc[0,:].values"
   ]
  },
  {
   "cell_type": "code",
   "execution_count": 71,
   "metadata": {},
   "outputs": [
    {
     "data": {
      "text/plain": [
       "95.47903997531188"
      ]
     },
     "execution_count": 71,
     "metadata": {},
     "output_type": "execute_result"
    }
   ],
   "source": [
    "np.sum((X_r[0,:]-X_new.iloc[0,:].values)**2)"
   ]
  },
  {
   "cell_type": "code",
   "execution_count": 72,
   "metadata": {},
   "outputs": [],
   "source": [
    "# Reconstruction errors: Distance between orginal and reconstructed.\n",
    "# X_new.shape[1] is the number of features/columns\n",
    "errors = np.sum((X_new-X_r)**2, axis=1)/X_new.shape[1]"
   ]
  },
  {
   "cell_type": "code",
   "execution_count": 76,
   "metadata": {},
   "outputs": [
    {
     "data": {
      "image/png": "[encoded data removed]",
      "text/plain": [
       "<Figure size 432x288 with 1 Axes>"
      ]
     },
     "metadata": {
      "needs_background": "light"
     },
     "output_type": "display_data"
    }
   ],
   "source": [
    "plt.hist(errors.values, bins=30);"
   ]
  },
  {
   "cell_type": "code",
   "execution_count": 83,
   "metadata": {},
   "outputs": [
    {
     "data": {
      "text/plain": [
       "<matplotlib.axes._subplots.AxesSubplot at 0x21062dace08>"
      ]
     },
     "execution_count": 83,
     "metadata": {},
     "output_type": "execute_result"
    },
    {
     "data": {
      "image/png": "[encoded data removed]",
      "text/plain": [
       "<Figure size 432x288 with 1 Axes>"
      ]
     },
     "metadata": {
      "needs_background": "light"
     },
     "output_type": "display_data"
    }
   ],
   "source": [
    "X_new.iloc[np.where(errors>200)[0],:].iloc[0,:].plot(rot=45)"
   ]
  },
  {
   "cell_type": "markdown",
   "metadata": {},
   "source": [
    "## Normalization"
   ]
  },
  {
   "cell_type": "code",
   "execution_count": 84,
   "metadata": {},
   "outputs": [
    {
     "data": {
      "text/html": [
       "<div>\n",
       "<style scoped>\n",
       "    .dataframe tbody tr th:only-of-type {\n",
       "        vertical-align: middle;\n",
       "    }\n",
       "\n",
       "    .dataframe tbody tr th {\n",
       "        vertical-align: top;\n",
       "    }\n",
       "\n",
       "    .dataframe thead th {\n",
       "        text-align: right;\n",
       "    }\n",
       "</style>\n",
       "<table border=\"1\" class=\"dataframe\">\n",
       "  <thead>\n",
       "    <tr style=\"text-align: right;\">\n",
       "      <th>PERIOD_START_TIME</th>\n",
       "      <th>06.21.2019 22:00:00</th>\n",
       "      <th>06.22.2019 01:00:00</th>\n",
       "      <th>06.22.2019 02:00:00</th>\n",
       "      <th>06.22.2019 03:00:00</th>\n",
       "      <th>06.22.2019 04:00:00</th>\n",
       "      <th>06.22.2019 05:00:00</th>\n",
       "      <th>06.22.2019 06:00:00</th>\n",
       "      <th>06.22.2019 07:00:00</th>\n",
       "      <th>06.22.2019 08:00:00</th>\n",
       "      <th>06.22.2019 09:00:00</th>\n",
       "      <th>...</th>\n",
       "      <th>06.22.2019 13:00:00</th>\n",
       "      <th>06.22.2019 14:00:00</th>\n",
       "      <th>06.22.2019 15:00:00</th>\n",
       "      <th>06.22.2019 16:00:00</th>\n",
       "      <th>06.22.2019 17:00:00</th>\n",
       "      <th>06.22.2019 18:00:00</th>\n",
       "      <th>06.22.2019 19:00:00</th>\n",
       "      <th>06.22.2019 20:00:00</th>\n",
       "      <th>06.22.2019 21:00:00</th>\n",
       "      <th>06.22.2019 22:00:00</th>\n",
       "    </tr>\n",
       "    <tr>\n",
       "      <th>LNCEL name</th>\n",
       "      <th></th>\n",
       "      <th></th>\n",
       "      <th></th>\n",
       "      <th></th>\n",
       "      <th></th>\n",
       "      <th></th>\n",
       "      <th></th>\n",
       "      <th></th>\n",
       "      <th></th>\n",
       "      <th></th>\n",
       "      <th></th>\n",
       "      <th></th>\n",
       "      <th></th>\n",
       "      <th></th>\n",
       "      <th></th>\n",
       "      <th></th>\n",
       "      <th></th>\n",
       "      <th></th>\n",
       "      <th></th>\n",
       "      <th></th>\n",
       "      <th></th>\n",
       "    </tr>\n",
       "  </thead>\n",
       "  <tbody>\n",
       "    <tr>\n",
       "      <td>11830</td>\n",
       "      <td>100.00</td>\n",
       "      <td>100.00</td>\n",
       "      <td>100.00</td>\n",
       "      <td>100.000</td>\n",
       "      <td>100.000</td>\n",
       "      <td>100.00</td>\n",
       "      <td>100.00</td>\n",
       "      <td>100.000</td>\n",
       "      <td>100.000</td>\n",
       "      <td>98.885</td>\n",
       "      <td>...</td>\n",
       "      <td>99.455</td>\n",
       "      <td>88.895</td>\n",
       "      <td>99.980</td>\n",
       "      <td>100.000</td>\n",
       "      <td>100.000</td>\n",
       "      <td>99.975</td>\n",
       "      <td>100.000</td>\n",
       "      <td>95.795</td>\n",
       "      <td>95.875</td>\n",
       "      <td>100.00</td>\n",
       "    </tr>\n",
       "    <tr>\n",
       "      <td>11831</td>\n",
       "      <td>91.27</td>\n",
       "      <td>100.00</td>\n",
       "      <td>100.00</td>\n",
       "      <td>99.750</td>\n",
       "      <td>94.775</td>\n",
       "      <td>78.59</td>\n",
       "      <td>100.00</td>\n",
       "      <td>99.950</td>\n",
       "      <td>99.965</td>\n",
       "      <td>99.680</td>\n",
       "      <td>...</td>\n",
       "      <td>95.120</td>\n",
       "      <td>99.615</td>\n",
       "      <td>98.540</td>\n",
       "      <td>90.100</td>\n",
       "      <td>99.720</td>\n",
       "      <td>99.780</td>\n",
       "      <td>99.655</td>\n",
       "      <td>99.825</td>\n",
       "      <td>100.000</td>\n",
       "      <td>93.10</td>\n",
       "    </tr>\n",
       "    <tr>\n",
       "      <td>32201</td>\n",
       "      <td>26.11</td>\n",
       "      <td>100.00</td>\n",
       "      <td>100.00</td>\n",
       "      <td>97.220</td>\n",
       "      <td>100.000</td>\n",
       "      <td>100.00</td>\n",
       "      <td>100.00</td>\n",
       "      <td>89.210</td>\n",
       "      <td>99.580</td>\n",
       "      <td>100.000</td>\n",
       "      <td>...</td>\n",
       "      <td>99.930</td>\n",
       "      <td>99.940</td>\n",
       "      <td>99.950</td>\n",
       "      <td>92.735</td>\n",
       "      <td>100.000</td>\n",
       "      <td>88.055</td>\n",
       "      <td>100.000</td>\n",
       "      <td>100.000</td>\n",
       "      <td>95.705</td>\n",
       "      <td>100.00</td>\n",
       "    </tr>\n",
       "    <tr>\n",
       "      <td>32202</td>\n",
       "      <td>30.06</td>\n",
       "      <td>78.85</td>\n",
       "      <td>100.00</td>\n",
       "      <td>83.935</td>\n",
       "      <td>100.000</td>\n",
       "      <td>100.00</td>\n",
       "      <td>89.89</td>\n",
       "      <td>55.205</td>\n",
       "      <td>69.630</td>\n",
       "      <td>91.180</td>\n",
       "      <td>...</td>\n",
       "      <td>72.780</td>\n",
       "      <td>70.585</td>\n",
       "      <td>51.610</td>\n",
       "      <td>46.810</td>\n",
       "      <td>73.445</td>\n",
       "      <td>74.440</td>\n",
       "      <td>70.410</td>\n",
       "      <td>86.630</td>\n",
       "      <td>76.735</td>\n",
       "      <td>79.06</td>\n",
       "    </tr>\n",
       "    <tr>\n",
       "      <td>32203</td>\n",
       "      <td>46.84</td>\n",
       "      <td>39.12</td>\n",
       "      <td>52.07</td>\n",
       "      <td>70.435</td>\n",
       "      <td>59.935</td>\n",
       "      <td>65.25</td>\n",
       "      <td>73.35</td>\n",
       "      <td>70.080</td>\n",
       "      <td>63.735</td>\n",
       "      <td>68.675</td>\n",
       "      <td>...</td>\n",
       "      <td>66.790</td>\n",
       "      <td>70.975</td>\n",
       "      <td>62.145</td>\n",
       "      <td>64.265</td>\n",
       "      <td>75.135</td>\n",
       "      <td>67.640</td>\n",
       "      <td>77.625</td>\n",
       "      <td>73.515</td>\n",
       "      <td>78.780</td>\n",
       "      <td>72.28</td>\n",
       "    </tr>\n",
       "  </tbody>\n",
       "</table>\n",
       "<p>5 rows × 23 columns</p>\n",
       "</div>"
      ],
      "text/plain": [
       "PERIOD_START_TIME  06.21.2019 22:00:00  06.22.2019 01:00:00  \\\n",
       "LNCEL name                                                    \n",
       "11830                           100.00               100.00   \n",
       "11831                            91.27               100.00   \n",
       "32201                            26.11               100.00   \n",
       "32202                            30.06                78.85   \n",
       "32203                            46.84                39.12   \n",
       "\n",
       "PERIOD_START_TIME  06.22.2019 02:00:00  06.22.2019 03:00:00  \\\n",
       "LNCEL name                                                    \n",
       "11830                           100.00              100.000   \n",
       "11831                           100.00               99.750   \n",
       "32201                           100.00               97.220   \n",
       "32202                           100.00               83.935   \n",
       "32203                            52.07               70.435   \n",
       "\n",
       "PERIOD_START_TIME  06.22.2019 04:00:00  06.22.2019 05:00:00  \\\n",
       "LNCEL name                                                    \n",
       "11830                          100.000               100.00   \n",
       "11831                           94.775                78.59   \n",
       "32201                          100.000               100.00   \n",
       "32202                          100.000               100.00   \n",
       "32203                           59.935                65.25   \n",
       "\n",
       "PERIOD_START_TIME  06.22.2019 06:00:00  06.22.2019 07:00:00  \\\n",
       "LNCEL name                                                    \n",
       "11830                           100.00              100.000   \n",
       "11831                           100.00               99.950   \n",
       "32201                           100.00               89.210   \n",
       "32202                            89.89               55.205   \n",
       "32203                            73.35               70.080   \n",
       "\n",
       "PERIOD_START_TIME  06.22.2019 08:00:00  06.22.2019 09:00:00  ...  \\\n",
       "LNCEL name                                                   ...   \n",
       "11830                          100.000               98.885  ...   \n",
       "11831                           99.965               99.680  ...   \n",
       "32201                           99.580              100.000  ...   \n",
       "32202                           69.630               91.180  ...   \n",
       "32203                           63.735               68.675  ...   \n",
       "\n",
       "PERIOD_START_TIME  06.22.2019 13:00:00  06.22.2019 14:00:00  \\\n",
       "LNCEL name                                                    \n",
       "11830                           99.455               88.895   \n",
       "11831                           95.120               99.615   \n",
       "32201                           99.930               99.940   \n",
       "32202                           72.780               70.585   \n",
       "32203                           66.790               70.975   \n",
       "\n",
       "PERIOD_START_TIME  06.22.2019 15:00:00  06.22.2019 16:00:00  \\\n",
       "LNCEL name                                                    \n",
       "11830                           99.980              100.000   \n",
       "11831                           98.540               90.100   \n",
       "32201                           99.950               92.735   \n",
       "32202                           51.610               46.810   \n",
       "32203                           62.145               64.265   \n",
       "\n",
       "PERIOD_START_TIME  06.22.2019 17:00:00  06.22.2019 18:00:00  \\\n",
       "LNCEL name                                                    \n",
       "11830                          100.000               99.975   \n",
       "11831                           99.720               99.780   \n",
       "32201                          100.000               88.055   \n",
       "32202                           73.445               74.440   \n",
       "32203                           75.135               67.640   \n",
       "\n",
       "PERIOD_START_TIME  06.22.2019 19:00:00  06.22.2019 20:00:00  \\\n",
       "LNCEL name                                                    \n",
       "11830                          100.000               95.795   \n",
       "11831                           99.655               99.825   \n",
       "32201                          100.000              100.000   \n",
       "32202                           70.410               86.630   \n",
       "32203                           77.625               73.515   \n",
       "\n",
       "PERIOD_START_TIME  06.22.2019 21:00:00  06.22.2019 22:00:00  \n",
       "LNCEL name                                                   \n",
       "11830                           95.875               100.00  \n",
       "11831                          100.000                93.10  \n",
       "32201                           95.705               100.00  \n",
       "32202                           76.735                79.06  \n",
       "32203                           78.780                72.28  \n",
       "\n",
       "[5 rows x 23 columns]"
      ]
     },
     "execution_count": 84,
     "metadata": {},
     "output_type": "execute_result"
    }
   ],
   "source": [
    "X_new.head()"
   ]
  },
  {
   "cell_type": "code",
   "execution_count": 85,
   "metadata": {},
   "outputs": [],
   "source": [
    "from sklearn.preprocessing import StandardScaler, MinMaxScaler"
   ]
  },
  {
   "cell_type": "code",
   "execution_count": 89,
   "metadata": {},
   "outputs": [
    {
     "data": {
      "text/plain": [
       "MinMaxScaler(copy=True, feature_range=(0, 1))"
      ]
     },
     "execution_count": 89,
     "metadata": {},
     "output_type": "execute_result"
    }
   ],
   "source": [
    "scl = MinMaxScaler()\n",
    "scl.fit(X_new)"
   ]
  },
  {
   "cell_type": "code",
   "execution_count": 92,
   "metadata": {},
   "outputs": [
    {
     "data": {
      "text/plain": [
       "array([0.99196508, 0.88888889, 0.99661152, 0.99606554, 0.95803794,\n",
       "       0.84001848, 0.98804466, 0.96749226, 0.99750127, 0.98608895,\n",
       "       0.93827514, 0.93410157, 0.99436676, 0.98364649, 0.85257395,\n",
       "       0.9786697 , 0.99304866, 0.99284464, 0.98629487, 0.98517534,\n",
       "       0.95253197, 0.94055035, 0.97370983])"
      ]
     },
     "execution_count": 92,
     "metadata": {},
     "output_type": "execute_result"
    }
   ],
   "source": [
    "scl.transform(X_new)[0]"
   ]
  },
  {
   "cell_type": "code",
   "execution_count": 94,
   "metadata": {},
   "outputs": [],
   "source": [
    "from sklearn.pipeline import make_pipeline\n",
    "from sklearn.cluster import KMeans\n",
    "pipe = make_pipeline(MinMaxScaler(), KMeans())"
   ]
  },
  {
   "cell_type": "code",
   "execution_count": 95,
   "metadata": {},
   "outputs": [
    {
     "data": {
      "text/plain": [
       "Pipeline(memory=None,\n",
       "         steps=[('minmaxscaler', MinMaxScaler(copy=True, feature_range=(0, 1))),\n",
       "                ('kmeans',\n",
       "                 KMeans(algorithm='auto', copy_x=True, init='k-means++',\n",
       "                        max_iter=300, n_clusters=8, n_init=10, n_jobs=None,\n",
       "                        precompute_distances='auto', random_state=None,\n",
       "                        tol=0.0001, verbose=0))],\n",
       "         verbose=False)"
      ]
     },
     "execution_count": 95,
     "metadata": {},
     "output_type": "execute_result"
    }
   ],
   "source": [
    "pipe.fit(X_new)"
   ]
  },
  {
   "cell_type": "code",
   "execution_count": 96,
   "metadata": {},
   "outputs": [
    {
     "data": {
      "text/plain": [
       "(32485, 23)"
      ]
     },
     "execution_count": 96,
     "metadata": {},
     "output_type": "execute_result"
    }
   ],
   "source": [
    "X_new.shape"
   ]
  },
  {
   "cell_type": "code",
   "execution_count": 97,
   "metadata": {},
   "outputs": [
    {
     "data": {
      "text/plain": [
       "(32485, 23)"
      ]
     },
     "execution_count": 97,
     "metadata": {},
     "output_type": "execute_result"
    }
   ],
   "source": [
    "X_r.shape"
   ]
  },
  {
   "cell_type": "code",
   "execution_count": 104,
   "metadata": {},
   "outputs": [
    {
     "data": {
      "text/plain": [
       "array([[109.0785,  80.1136,  79.9084, ...,   0.    ,   0.    ,   0.    ],\n",
       "       [ 80.1136,  59.6266,  59.494 , ...,   0.    ,   0.    ,   0.    ],\n",
       "       [ 79.9084,  59.494 ,  59.4   , ...,   0.    ,   0.    ,   0.    ],\n",
       "       ...,\n",
       "       [  0.    ,   0.    ,   0.    , ...,   0.    ,   0.    ,   0.    ],\n",
       "       [  0.    ,   0.    ,   0.    , ...,   0.    ,   0.    ,   0.    ],\n",
       "       [  0.    ,   0.    ,   0.    , ...,   0.    ,   0.    ,   0.    ]])"
      ]
     },
     "execution_count": 104,
     "metadata": {},
     "output_type": "execute_result"
    }
   ],
   "source": [
    "np.matmul(X.values,X.values.T)"
   ]
  },
  {
   "cell_type": "code",
   "execution_count": 101,
   "metadata": {},
   "outputs": [
    {
     "data": {
      "text/html": [
       "<div>\n",
       "<style scoped>\n",
       "    .dataframe tbody tr th:only-of-type {\n",
       "        vertical-align: middle;\n",
       "    }\n",
       "\n",
       "    .dataframe tbody tr th {\n",
       "        vertical-align: top;\n",
       "    }\n",
       "\n",
       "    .dataframe thead th {\n",
       "        text-align: right;\n",
       "    }\n",
       "</style>\n",
       "<table border=\"1\" class=\"dataframe\">\n",
       "  <thead>\n",
       "    <tr style=\"text-align: right;\">\n",
       "      <th></th>\n",
       "      <th>E-RAB Stp Att, QCI4</th>\n",
       "      <th>Add E-RAB Stp Att</th>\n",
       "      <th>E-RAB Stp Att, QCI1</th>\n",
       "      <th>Avg act UEs DL DRBs QCI1</th>\n",
       "      <th>Avg act UEs UL DRBs QCI1</th>\n",
       "      <th>Max Act UEs per cell DL</th>\n",
       "      <th>Max Act UEs per cell UL</th>\n",
       "      <th>Max nr active UEs per cell</th>\n",
       "      <th>Max nr RRC conn UEs per cell</th>\n",
       "      <th>Avg Nr UEs UL intra-eNB CoMP</th>\n",
       "      <th>Avg CA capab UEs DL</th>\n",
       "      <th>Avg CA cap UEs for 3CCs DL</th>\n",
       "      <th>Avg UEs active SCell DL</th>\n",
       "      <th>Avg UEs activ 2 SCell DL</th>\n",
       "      <th>Avg Latency Uplink</th>\n",
       "      <th>Amount of active cells</th>\n",
       "    </tr>\n",
       "  </thead>\n",
       "  <tbody>\n",
       "    <tr>\n",
       "      <td>0</td>\n",
       "      <td>0</td>\n",
       "      <td>0</td>\n",
       "      <td>0</td>\n",
       "      <td>0.0000</td>\n",
       "      <td>0.0</td>\n",
       "      <td>4</td>\n",
       "      <td>4</td>\n",
       "      <td>49</td>\n",
       "      <td>49</td>\n",
       "      <td>0.0</td>\n",
       "      <td>1.2321</td>\n",
       "      <td>0.8464</td>\n",
       "      <td>0.0</td>\n",
       "      <td>0.0</td>\n",
       "      <td>0.0</td>\n",
       "      <td>1</td>\n",
       "    </tr>\n",
       "    <tr>\n",
       "      <td>1</td>\n",
       "      <td>0</td>\n",
       "      <td>0</td>\n",
       "      <td>0</td>\n",
       "      <td>0.0121</td>\n",
       "      <td>0.0</td>\n",
       "      <td>4</td>\n",
       "      <td>4</td>\n",
       "      <td>25</td>\n",
       "      <td>25</td>\n",
       "      <td>0.0</td>\n",
       "      <td>0.4624</td>\n",
       "      <td>0.1521</td>\n",
       "      <td>0.0</td>\n",
       "      <td>0.0</td>\n",
       "      <td>0.0</td>\n",
       "      <td>1</td>\n",
       "    </tr>\n",
       "    <tr>\n",
       "      <td>2</td>\n",
       "      <td>0</td>\n",
       "      <td>0</td>\n",
       "      <td>0</td>\n",
       "      <td>0.0000</td>\n",
       "      <td>0.0</td>\n",
       "      <td>4</td>\n",
       "      <td>4</td>\n",
       "      <td>25</td>\n",
       "      <td>25</td>\n",
       "      <td>0.0</td>\n",
       "      <td>0.2704</td>\n",
       "      <td>0.1296</td>\n",
       "      <td>0.0</td>\n",
       "      <td>0.0</td>\n",
       "      <td>0.0</td>\n",
       "      <td>1</td>\n",
       "    </tr>\n",
       "    <tr>\n",
       "      <td>3</td>\n",
       "      <td>0</td>\n",
       "      <td>0</td>\n",
       "      <td>0</td>\n",
       "      <td>0.0000</td>\n",
       "      <td>0.0</td>\n",
       "      <td>4</td>\n",
       "      <td>4</td>\n",
       "      <td>25</td>\n",
       "      <td>25</td>\n",
       "      <td>0.0</td>\n",
       "      <td>0.2916</td>\n",
       "      <td>0.2116</td>\n",
       "      <td>0.0</td>\n",
       "      <td>0.0</td>\n",
       "      <td>0.0</td>\n",
       "      <td>1</td>\n",
       "    </tr>\n",
       "    <tr>\n",
       "      <td>4</td>\n",
       "      <td>0</td>\n",
       "      <td>0</td>\n",
       "      <td>0</td>\n",
       "      <td>0.0000</td>\n",
       "      <td>0.0</td>\n",
       "      <td>4</td>\n",
       "      <td>4</td>\n",
       "      <td>16</td>\n",
       "      <td>16</td>\n",
       "      <td>0.0</td>\n",
       "      <td>0.1936</td>\n",
       "      <td>0.1225</td>\n",
       "      <td>0.0</td>\n",
       "      <td>0.0</td>\n",
       "      <td>0.0</td>\n",
       "      <td>1</td>\n",
       "    </tr>\n",
       "    <tr>\n",
       "      <td>...</td>\n",
       "      <td>...</td>\n",
       "      <td>...</td>\n",
       "      <td>...</td>\n",
       "      <td>...</td>\n",
       "      <td>...</td>\n",
       "      <td>...</td>\n",
       "      <td>...</td>\n",
       "      <td>...</td>\n",
       "      <td>...</td>\n",
       "      <td>...</td>\n",
       "      <td>...</td>\n",
       "      <td>...</td>\n",
       "      <td>...</td>\n",
       "      <td>...</td>\n",
       "      <td>...</td>\n",
       "      <td>...</td>\n",
       "    </tr>\n",
       "    <tr>\n",
       "      <td>1421</td>\n",
       "      <td>0</td>\n",
       "      <td>0</td>\n",
       "      <td>0</td>\n",
       "      <td>0.0000</td>\n",
       "      <td>0.0</td>\n",
       "      <td>0</td>\n",
       "      <td>0</td>\n",
       "      <td>0</td>\n",
       "      <td>0</td>\n",
       "      <td>0.0</td>\n",
       "      <td>0.0000</td>\n",
       "      <td>0.0000</td>\n",
       "      <td>0.0</td>\n",
       "      <td>0.0</td>\n",
       "      <td>0.0</td>\n",
       "      <td>0</td>\n",
       "    </tr>\n",
       "    <tr>\n",
       "      <td>1422</td>\n",
       "      <td>0</td>\n",
       "      <td>0</td>\n",
       "      <td>0</td>\n",
       "      <td>0.0000</td>\n",
       "      <td>0.0</td>\n",
       "      <td>0</td>\n",
       "      <td>0</td>\n",
       "      <td>0</td>\n",
       "      <td>0</td>\n",
       "      <td>0.0</td>\n",
       "      <td>0.0000</td>\n",
       "      <td>0.0000</td>\n",
       "      <td>0.0</td>\n",
       "      <td>0.0</td>\n",
       "      <td>0.0</td>\n",
       "      <td>0</td>\n",
       "    </tr>\n",
       "    <tr>\n",
       "      <td>1423</td>\n",
       "      <td>0</td>\n",
       "      <td>0</td>\n",
       "      <td>0</td>\n",
       "      <td>0.0000</td>\n",
       "      <td>0.0</td>\n",
       "      <td>0</td>\n",
       "      <td>0</td>\n",
       "      <td>0</td>\n",
       "      <td>0</td>\n",
       "      <td>0.0</td>\n",
       "      <td>0.0000</td>\n",
       "      <td>0.0000</td>\n",
       "      <td>0.0</td>\n",
       "      <td>0.0</td>\n",
       "      <td>0.0</td>\n",
       "      <td>0</td>\n",
       "    </tr>\n",
       "    <tr>\n",
       "      <td>1424</td>\n",
       "      <td>0</td>\n",
       "      <td>0</td>\n",
       "      <td>0</td>\n",
       "      <td>0.0000</td>\n",
       "      <td>0.0</td>\n",
       "      <td>0</td>\n",
       "      <td>0</td>\n",
       "      <td>0</td>\n",
       "      <td>0</td>\n",
       "      <td>0.0</td>\n",
       "      <td>0.0000</td>\n",
       "      <td>0.0000</td>\n",
       "      <td>0.0</td>\n",
       "      <td>0.0</td>\n",
       "      <td>0.0</td>\n",
       "      <td>0</td>\n",
       "    </tr>\n",
       "    <tr>\n",
       "      <td>1425</td>\n",
       "      <td>0</td>\n",
       "      <td>0</td>\n",
       "      <td>0</td>\n",
       "      <td>0.0000</td>\n",
       "      <td>0.0</td>\n",
       "      <td>0</td>\n",
       "      <td>0</td>\n",
       "      <td>0</td>\n",
       "      <td>0</td>\n",
       "      <td>0.0</td>\n",
       "      <td>0.0000</td>\n",
       "      <td>0.0000</td>\n",
       "      <td>0.0</td>\n",
       "      <td>0.0</td>\n",
       "      <td>0.0</td>\n",
       "      <td>0</td>\n",
       "    </tr>\n",
       "  </tbody>\n",
       "</table>\n",
       "<p>1426 rows × 16 columns</p>\n",
       "</div>"
      ],
      "text/plain": [
       "      E-RAB Stp Att, QCI4  Add E-RAB Stp Att  E-RAB Stp Att, QCI1  \\\n",
       "0                       0                  0                    0   \n",
       "1                       0                  0                    0   \n",
       "2                       0                  0                    0   \n",
       "3                       0                  0                    0   \n",
       "4                       0                  0                    0   \n",
       "...                   ...                ...                  ...   \n",
       "1421                    0                  0                    0   \n",
       "1422                    0                  0                    0   \n",
       "1423                    0                  0                    0   \n",
       "1424                    0                  0                    0   \n",
       "1425                    0                  0                    0   \n",
       "\n",
       "      Avg act UEs DL DRBs QCI1  Avg act UEs UL DRBs QCI1  \\\n",
       "0                       0.0000                       0.0   \n",
       "1                       0.0121                       0.0   \n",
       "2                       0.0000                       0.0   \n",
       "3                       0.0000                       0.0   \n",
       "4                       0.0000                       0.0   \n",
       "...                        ...                       ...   \n",
       "1421                    0.0000                       0.0   \n",
       "1422                    0.0000                       0.0   \n",
       "1423                    0.0000                       0.0   \n",
       "1424                    0.0000                       0.0   \n",
       "1425                    0.0000                       0.0   \n",
       "\n",
       "      Max Act UEs per cell DL  Max Act UEs per cell UL  \\\n",
       "0                           4                        4   \n",
       "1                           4                        4   \n",
       "2                           4                        4   \n",
       "3                           4                        4   \n",
       "4                           4                        4   \n",
       "...                       ...                      ...   \n",
       "1421                        0                        0   \n",
       "1422                        0                        0   \n",
       "1423                        0                        0   \n",
       "1424                        0                        0   \n",
       "1425                        0                        0   \n",
       "\n",
       "      Max nr active UEs per cell  Max nr RRC conn UEs per cell  \\\n",
       "0                             49                            49   \n",
       "1                             25                            25   \n",
       "2                             25                            25   \n",
       "3                             25                            25   \n",
       "4                             16                            16   \n",
       "...                          ...                           ...   \n",
       "1421                           0                             0   \n",
       "1422                           0                             0   \n",
       "1423                           0                             0   \n",
       "1424                           0                             0   \n",
       "1425                           0                             0   \n",
       "\n",
       "      Avg Nr UEs UL intra-eNB CoMP  Avg CA capab UEs DL  \\\n",
       "0                              0.0               1.2321   \n",
       "1                              0.0               0.4624   \n",
       "2                              0.0               0.2704   \n",
       "3                              0.0               0.2916   \n",
       "4                              0.0               0.1936   \n",
       "...                            ...                  ...   \n",
       "1421                           0.0               0.0000   \n",
       "1422                           0.0               0.0000   \n",
       "1423                           0.0               0.0000   \n",
       "1424                           0.0               0.0000   \n",
       "1425                           0.0               0.0000   \n",
       "\n",
       "      Avg CA cap UEs for 3CCs DL  Avg UEs active SCell DL  \\\n",
       "0                         0.8464                      0.0   \n",
       "1                         0.1521                      0.0   \n",
       "2                         0.1296                      0.0   \n",
       "3                         0.2116                      0.0   \n",
       "4                         0.1225                      0.0   \n",
       "...                          ...                      ...   \n",
       "1421                      0.0000                      0.0   \n",
       "1422                      0.0000                      0.0   \n",
       "1423                      0.0000                      0.0   \n",
       "1424                      0.0000                      0.0   \n",
       "1425                      0.0000                      0.0   \n",
       "\n",
       "      Avg UEs activ 2 SCell DL  Avg Latency Uplink  Amount of active cells  \n",
       "0                          0.0                 0.0                       1  \n",
       "1                          0.0                 0.0                       1  \n",
       "2                          0.0                 0.0                       1  \n",
       "3                          0.0                 0.0                       1  \n",
       "4                          0.0                 0.0                       1  \n",
       "...                        ...                 ...                     ...  \n",
       "1421                       0.0                 0.0                       0  \n",
       "1422                       0.0                 0.0                       0  \n",
       "1423                       0.0                 0.0                       0  \n",
       "1424                       0.0                 0.0                       0  \n",
       "1425                       0.0                 0.0                       0  \n",
       "\n",
       "[1426 rows x 16 columns]"
      ]
     },
     "execution_count": 101,
     "metadata": {},
     "output_type": "execute_result"
    }
   ],
   "source": [
    "X**2 # Element-wise squares"
   ]
  },
  {
   "cell_type": "code",
   "execution_count": null,
   "metadata": {},
   "outputs": [],
   "source": []
  }
 ],
 "metadata": {
  "kernelspec": {
   "display_name": "Python 3",
   "language": "python",
   "name": "python3"
  },
  "language_info": {
   "codemirror_mode": {
    "name": "ipython",
    "version": 3
   },
   "file_extension": ".py",
   "mimetype": "text/x-python",
   "name": "python",
   "nbconvert_exporter": "python",
   "pygments_lexer": "ipython3",
   "version": "3.7.4"
  }
 },
 "nbformat": 4,
 "nbformat_minor": 2
}
